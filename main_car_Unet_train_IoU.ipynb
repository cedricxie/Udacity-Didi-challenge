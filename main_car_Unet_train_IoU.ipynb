{
 "cells": [
  {
   "cell_type": "code",
   "execution_count": 1,
   "metadata": {},
   "outputs": [
    {
     "name": "stderr",
     "output_type": "stream",
     "text": [
      "Using TensorFlow backend.\n"
     ]
    }
   ],
   "source": [
    "### Import libraries\n",
    "# from kitti_data import pykitti\n",
    "# from kitti_data.pykitti.tracklet import parseXML, TRUNC_IN_IMAGE, TRUNC_TRUNCATED\n",
    "# from kitti_data.draw import *\n",
    "# from kitti_data.io import *\n",
    "import math\n",
    "# from net.utility.draw import *\n",
    "# from net.processing.boxes3d import *\n",
    "\n",
    "import cv2\n",
    "# import matplotlib.pyplot as plt\n",
    "from matplotlib.patches import Rectangle\n",
    "import numpy as np\n",
    "import glob\n",
    "\n",
    "import keras\n",
    "from keras.applications.imagenet_utils import preprocess_input\n",
    "from keras.backend.tensorflow_backend import set_session\n",
    "from keras.models import Model\n",
    "from keras.preprocessing import image\n",
    "import matplotlib.pyplot as plt\n",
    "from random import shuffle\n",
    "from scipy.misc import imread\n",
    "from scipy.misc import imresize\n",
    "\n",
    "from keras.models import Model\n",
    "from keras.layers import Input, merge, Convolution2D, MaxPooling2D, UpSampling2D,Lambda\n",
    "from keras.optimizers import Adam\n",
    "# from keras.callbacks import ModelCheckpoint, LearningRateScheduler\n",
    "\n",
    "# from ssd import SSD300\n",
    "# from ssd_training import MultiboxLoss\n",
    "# from ssd_utils import BBoxUtility\n",
    "\n",
    "%matplotlib inline\n",
    "plt.rcParams['figure.figsize']=(8,8)\n",
    "plt.rcParams['image.interpolation']='nearest'\n",
    "np.set_printoptions(suppress=True)\n",
    "\n",
    "\n",
    "# from keras.models import Model\n",
    "# from keras.layers import Input, merge, Convolution2D, MaxPooling2D, UpSampling2D,Lambda\n",
    "# from keras.optimizers import Adam\n",
    "# from keras.callbacks import ModelCheckpoint, LearningRateScheduler\n",
    "from keras import backend as K\n",
    "from scipy.ndimage.measurements import label\n",
    "# from keras.applications.imagenet_utils import preprocess_input\n",
    "# from keras.back\n",
    "\n",
    "\n",
    "# import time\n",
    "\n"
   ]
  },
  {
   "cell_type": "code",
   "execution_count": 2,
   "metadata": {
    "collapsed": true
   },
   "outputs": [],
   "source": [
    "# top_images=glob.glob('data/seg/top_image/*.png')\n",
    "# rgb_images=glob.glob('data/seg/rgb/rgb_*.png')\n",
    "# gt_boxes=glob.glob('data/seg/gt_boxes3d/gt_boxes3d_*.npy')\n",
    "# gt_lab=glob.glob('data/seg/gt_labels/gt_labels_*.npy')\n",
    "# gt_box3d=[]\n",
    "# rgb_ims=[]\n",
    "# top_ims=[]\n",
    "# top_boxes=[]\n",
    "# gt_labels=[]\n",
    "# for i in range(len(gt_boxes)):\n",
    "#     top_im=cv2.imread(top_images[i])\n",
    "#     top_im=cv2.cvtColor(top_im, cv2.COLOR_BGR2RGB)\n",
    "    \n",
    "#     rgb_im=cv2.imread(rgb_images[i])\n",
    "#     rgb_im=cv2.cvtColor(rgb_im,cv2.COLOR_BGR2RGB)\n",
    "    \n",
    "#     gt_box=np.load(gt_boxes[i])\n",
    "#     top_box = box3d_to_top_box(gt_box)\n",
    "    \n",
    "#     gt_label=np.load(gt_lab[i])\n",
    "#     gt_label=gt_label.astype(str)\n",
    "#     gt_labels.append(gt_label)\n",
    "    \n",
    "#     gt_box3d.append(gt_box)\n",
    "#     top_boxes.append(top_box)\n",
    "#     top_ims.append(top_im)\n",
    "#     rgb_ims.append(rgb_im)\n",
    "    "
   ]
  },
  {
   "cell_type": "code",
   "execution_count": 3,
   "metadata": {
    "collapsed": true
   },
   "outputs": [],
   "source": [
    "# len(gt_labels[0])\n",
    "# gt_labels[0]"
   ]
  },
  {
   "cell_type": "code",
   "execution_count": 4,
   "metadata": {
    "collapsed": true
   },
   "outputs": [],
   "source": [
    "# top_boxes=np.array(top_boxes)\n",
    "# len(top_boxes[0])"
   ]
  },
  {
   "cell_type": "code",
   "execution_count": null,
   "metadata": {
    "collapsed": true
   },
   "outputs": [],
   "source": []
  },
  {
   "cell_type": "markdown",
   "metadata": {},
   "source": [
    "**the preprocesss input!**"
   ]
  },
  {
   "cell_type": "code",
   "execution_count": 5,
   "metadata": {
    "collapsed": true
   },
   "outputs": [],
   "source": [
    "\n",
    "# p='/Users/simin/Desktop/data/IMG/center_2017_03_20_23_45_31_377.png'\n",
    "# p='/Users/simin/Desktop/0000000009.jpg'\n",
    "# /Users/simin/Desktop/didi-udacity-2017-master/data/seg/rgb/rgb_00168.png\n",
    "# inputs = []\n",
    "# images = []\n",
    "# p1 = '/Users/simin/Desktop/didi-udacity-2017-master/data/seg/rgb/rgb_00113.png'\n",
    "# img = image.load_img(p1, target_size=(300, 300))\n",
    "# img = image.img_to_array(img)\n",
    "# images.append(imread(p1))\n",
    "# inputs.append(img.copy())\n",
    "# p2 = '/Users/simin/Downloads/CarND-Vehicle-Detection-master/test_images/boys.jpg'\n",
    "# img = image.load_img(p2, target_size=(300, 300))\n",
    "# img = image.img_to_array(img)\n",
    "# images.append(imread(p2))\n",
    "# inputs.append(img.copy())\n",
    "\n",
    "# print(len(images))\n",
    "\n",
    "# inp = preprocess_input(np.array(inputs))\n",
    "# plt.imshow(inp[0])\n",
    "# print(np.max(inp))"
   ]
  },
  {
   "cell_type": "code",
   "execution_count": 6,
   "metadata": {
    "collapsed": true
   },
   "outputs": [],
   "source": [
    "# inputs=[]\n",
    "# images=[]\n",
    "# for i in range(9):\n",
    "# #     top_im=cv2.imread(top_images[i])\n",
    "# #     top_im=cv2.cvtColor(top_im, cv2.COLOR_BGR2RGB)\n",
    "#     top_im = image.load_img(top_images[i+120], target_size=(300, 300))\n",
    "#     top_im=image.img_to_array(top_im)\n",
    "# #     rgb_im = image.load_img(rgb_images[i+200], target_size=(300, 300))\n",
    "# #     rgb_im=image.img_to_array(rgb_im)\n",
    "# #     rgb_im=rgb_im.astype(dtype=('float64'))\n",
    "# #     rgb_im=rgb_im/127.5-1.\n",
    "\n",
    "# #     images.append(imread(rgb_images[i]))\n",
    "#     images.append(top_im)\n",
    "#     inputs.append(top_im.copy())\n",
    "\n",
    "# plt.imshow(images[0])\n",
    "# # rgb_ims[0].shape\n",
    "# inputs = preprocess_input(np.array(inputs))\n",
    "\n",
    "# print(np.max(inputs))\n",
    "# for k in range(3):\n",
    "#     plt.imshow(inputs[i])\n",
    "\n",
    "#     plt.show()"
   ]
  },
  {
   "cell_type": "code",
   "execution_count": 7,
   "metadata": {
    "collapsed": true
   },
   "outputs": [],
   "source": [
    "# plt.imshow(images[0])"
   ]
  },
  {
   "cell_type": "code",
   "execution_count": null,
   "metadata": {
    "collapsed": true
   },
   "outputs": [],
   "source": []
  },
  {
   "cell_type": "code",
   "execution_count": 8,
   "metadata": {
    "collapsed": true
   },
   "outputs": [],
   "source": [
    "# plt.imshow(rgb_ims[0])"
   ]
  },
  {
   "cell_type": "code",
   "execution_count": 9,
   "metadata": {
    "collapsed": true
   },
   "outputs": [],
   "source": [
    "# top_boxes = box3d_to_top_box(gt_box3d[0])\n",
    "# top_boxes.shape"
   ]
  },
  {
   "cell_type": "code",
   "execution_count": 10,
   "metadata": {},
   "outputs": [
    {
     "data": {
      "text/html": [
       "<div>\n",
       "<table border=\"1\" class=\"dataframe\">\n",
       "  <thead>\n",
       "    <tr style=\"text-align: right;\">\n",
       "      <th></th>\n",
       "      <th>File_Path</th>\n",
       "      <th>Frame</th>\n",
       "      <th>Label</th>\n",
       "      <th>xmin</th>\n",
       "      <th>xmax</th>\n",
       "      <th>ymin</th>\n",
       "      <th>ymax</th>\n",
       "    </tr>\n",
       "  </thead>\n",
       "  <tbody>\n",
       "    <tr>\n",
       "      <th>0</th>\n",
       "      <td>/Users/simin/Desktop/didi-udacity-2017-master/...</td>\n",
       "      <td>top_image_00000.png</td>\n",
       "      <td>Car</td>\n",
       "      <td>76.0</td>\n",
       "      <td>91.0</td>\n",
       "      <td>167.0</td>\n",
       "      <td>200.0</td>\n",
       "    </tr>\n",
       "    <tr>\n",
       "      <th>1</th>\n",
       "      <td>/Users/simin/Desktop/didi-udacity-2017-master/...</td>\n",
       "      <td>top_image_00000.png</td>\n",
       "      <td>Car</td>\n",
       "      <td>79.0</td>\n",
       "      <td>98.0</td>\n",
       "      <td>117.0</td>\n",
       "      <td>160.0</td>\n",
       "    </tr>\n",
       "    <tr>\n",
       "      <th>2</th>\n",
       "      <td>/Users/simin/Desktop/didi-udacity-2017-master/...</td>\n",
       "      <td>top_image_00000.png</td>\n",
       "      <td>Car</td>\n",
       "      <td>85.0</td>\n",
       "      <td>103.0</td>\n",
       "      <td>70.0</td>\n",
       "      <td>107.0</td>\n",
       "    </tr>\n",
       "    <tr>\n",
       "      <th>3</th>\n",
       "      <td>/Users/simin/Desktop/didi-udacity-2017-master/...</td>\n",
       "      <td>top_image_00001.png</td>\n",
       "      <td>Car</td>\n",
       "      <td>75.0</td>\n",
       "      <td>90.0</td>\n",
       "      <td>180.0</td>\n",
       "      <td>213.0</td>\n",
       "    </tr>\n",
       "    <tr>\n",
       "      <th>4</th>\n",
       "      <td>/Users/simin/Desktop/didi-udacity-2017-master/...</td>\n",
       "      <td>top_image_00001.png</td>\n",
       "      <td>Car</td>\n",
       "      <td>79.0</td>\n",
       "      <td>97.0</td>\n",
       "      <td>129.0</td>\n",
       "      <td>173.0</td>\n",
       "    </tr>\n",
       "  </tbody>\n",
       "</table>\n",
       "</div>"
      ],
      "text/plain": [
       "                                           File_Path                Frame  \\\n",
       "0  /Users/simin/Desktop/didi-udacity-2017-master/...  top_image_00000.png   \n",
       "1  /Users/simin/Desktop/didi-udacity-2017-master/...  top_image_00000.png   \n",
       "2  /Users/simin/Desktop/didi-udacity-2017-master/...  top_image_00000.png   \n",
       "3  /Users/simin/Desktop/didi-udacity-2017-master/...  top_image_00001.png   \n",
       "4  /Users/simin/Desktop/didi-udacity-2017-master/...  top_image_00001.png   \n",
       "\n",
       "  Label  xmin   xmax   ymin   ymax  \n",
       "0   Car  76.0   91.0  167.0  200.0  \n",
       "1   Car  79.0   98.0  117.0  160.0  \n",
       "2   Car  85.0  103.0   70.0  107.0  \n",
       "3   Car  75.0   90.0  180.0  213.0  \n",
       "4   Car  79.0   97.0  129.0  173.0  "
      ]
     },
     "execution_count": 10,
     "metadata": {},
     "output_type": "execute_result"
    }
   ],
   "source": [
    "\n",
    "import pandas as pd\n",
    "\n",
    "df_files1=pd.read_csv('test1.csv', header=0)\n",
    "\n",
    "# df_vehicles=df_files[(df_files['Label']=='Car')|(df_files['Label']=='Truck')|(df_files['Label']=='Pedestrian')\\\n",
    "#                   |(df_files['Label']=='Cyclist')|(df_files['Label']=='Van')].reset_index()\n",
    "df_vehicles1=df_files1[(df_files1['Label']=='Car')|(df_files1['Label']=='Truck')|(df_files1['Label']=='Van')].reset_index()\n",
    "df_vehicles1=df_vehicles1.drop('index',1)\n",
    "\n",
    "# df_vehicles['File_Path']='top_image'+'/'+df_vehicles['Frame']\n",
    "\n",
    "df_vehicles1.head()"
   ]
  },
  {
   "cell_type": "code",
   "execution_count": 11,
   "metadata": {},
   "outputs": [
    {
     "data": {
      "text/html": [
       "<div>\n",
       "<table border=\"1\" class=\"dataframe\">\n",
       "  <thead>\n",
       "    <tr style=\"text-align: right;\">\n",
       "      <th></th>\n",
       "      <th>File_Path</th>\n",
       "      <th>Frame</th>\n",
       "      <th>Label</th>\n",
       "      <th>xmin</th>\n",
       "      <th>xmax</th>\n",
       "      <th>ymin</th>\n",
       "      <th>ymax</th>\n",
       "    </tr>\n",
       "  </thead>\n",
       "  <tbody>\n",
       "    <tr>\n",
       "      <th>1216</th>\n",
       "      <td>/Users/simin/Desktop/didi-udacity-2017-master/...</td>\n",
       "      <td>top_image_00232.png</td>\n",
       "      <td>Car</td>\n",
       "      <td>419.0</td>\n",
       "      <td>468.0</td>\n",
       "      <td>60.0</td>\n",
       "      <td>86.0</td>\n",
       "    </tr>\n",
       "    <tr>\n",
       "      <th>1217</th>\n",
       "      <td>/Users/simin/Desktop/didi-udacity-2017-master/...</td>\n",
       "      <td>top_image_00232.png</td>\n",
       "      <td>Car</td>\n",
       "      <td>212.0</td>\n",
       "      <td>233.0</td>\n",
       "      <td>-185.0</td>\n",
       "      <td>-143.0</td>\n",
       "    </tr>\n",
       "    <tr>\n",
       "      <th>1218</th>\n",
       "      <td>/Users/simin/Desktop/didi-udacity-2017-master/...</td>\n",
       "      <td>top_image_00232.png</td>\n",
       "      <td>Car</td>\n",
       "      <td>175.0</td>\n",
       "      <td>198.0</td>\n",
       "      <td>-192.0</td>\n",
       "      <td>-153.0</td>\n",
       "    </tr>\n",
       "    <tr>\n",
       "      <th>1219</th>\n",
       "      <td>/Users/simin/Desktop/didi-udacity-2017-master/...</td>\n",
       "      <td>top_image_00232.png</td>\n",
       "      <td>Car</td>\n",
       "      <td>222.0</td>\n",
       "      <td>241.0</td>\n",
       "      <td>-244.0</td>\n",
       "      <td>-208.0</td>\n",
       "    </tr>\n",
       "    <tr>\n",
       "      <th>1220</th>\n",
       "      <td>/Users/simin/Desktop/didi-udacity-2017-master/...</td>\n",
       "      <td>top_image_00232.png</td>\n",
       "      <td>Car</td>\n",
       "      <td>184.0</td>\n",
       "      <td>206.0</td>\n",
       "      <td>-252.0</td>\n",
       "      <td>-212.0</td>\n",
       "    </tr>\n",
       "  </tbody>\n",
       "</table>\n",
       "</div>"
      ],
      "text/plain": [
       "                                              File_Path                Frame  \\\n",
       "1216  /Users/simin/Desktop/didi-udacity-2017-master/...  top_image_00232.png   \n",
       "1217  /Users/simin/Desktop/didi-udacity-2017-master/...  top_image_00232.png   \n",
       "1218  /Users/simin/Desktop/didi-udacity-2017-master/...  top_image_00232.png   \n",
       "1219  /Users/simin/Desktop/didi-udacity-2017-master/...  top_image_00232.png   \n",
       "1220  /Users/simin/Desktop/didi-udacity-2017-master/...  top_image_00232.png   \n",
       "\n",
       "     Label   xmin   xmax   ymin   ymax  \n",
       "1216   Car  419.0  468.0   60.0   86.0  \n",
       "1217   Car  212.0  233.0 -185.0 -143.0  \n",
       "1218   Car  175.0  198.0 -192.0 -153.0  \n",
       "1219   Car  222.0  241.0 -244.0 -208.0  \n",
       "1220   Car  184.0  206.0 -252.0 -212.0  "
      ]
     },
     "execution_count": 11,
     "metadata": {},
     "output_type": "execute_result"
    }
   ],
   "source": [
    "df_vehicles1.tail()"
   ]
  },
  {
   "cell_type": "code",
   "execution_count": 12,
   "metadata": {
    "collapsed": true
   },
   "outputs": [],
   "source": [
    "df_files2=pd.read_csv('test2.csv', header=0)\n",
    "df_vehicles2=df_files2[(df_files2['Label']=='Car')|(df_files2['Label']=='Van')].reset_index()\n",
    "df_vehicles2=df_vehicles2.drop('index',1)\n",
    "\n"
   ]
  },
  {
   "cell_type": "code",
   "execution_count": 13,
   "metadata": {},
   "outputs": [
    {
     "data": {
      "text/html": [
       "<div>\n",
       "<table border=\"1\" class=\"dataframe\">\n",
       "  <thead>\n",
       "    <tr style=\"text-align: right;\">\n",
       "      <th></th>\n",
       "      <th>File_Path</th>\n",
       "      <th>Frame</th>\n",
       "      <th>Label</th>\n",
       "      <th>xmin</th>\n",
       "      <th>xmax</th>\n",
       "      <th>ymin</th>\n",
       "      <th>ymax</th>\n",
       "    </tr>\n",
       "  </thead>\n",
       "  <tbody>\n",
       "    <tr>\n",
       "      <th>0</th>\n",
       "      <td>/Users/simin/Desktop/didi-udacity-2017-master/...</td>\n",
       "      <td>top_image2_00000.png</td>\n",
       "      <td>Car</td>\n",
       "      <td>192.0</td>\n",
       "      <td>220.0</td>\n",
       "      <td>221.0</td>\n",
       "      <td>260.0</td>\n",
       "    </tr>\n",
       "    <tr>\n",
       "      <th>1</th>\n",
       "      <td>/Users/simin/Desktop/didi-udacity-2017-master/...</td>\n",
       "      <td>top_image2_00000.png</td>\n",
       "      <td>Car</td>\n",
       "      <td>125.0</td>\n",
       "      <td>141.0</td>\n",
       "      <td>99.0</td>\n",
       "      <td>136.0</td>\n",
       "    </tr>\n",
       "    <tr>\n",
       "      <th>2</th>\n",
       "      <td>/Users/simin/Desktop/didi-udacity-2017-master/...</td>\n",
       "      <td>top_image2_00000.png</td>\n",
       "      <td>Car</td>\n",
       "      <td>184.0</td>\n",
       "      <td>202.0</td>\n",
       "      <td>-103.0</td>\n",
       "      <td>-62.0</td>\n",
       "    </tr>\n",
       "    <tr>\n",
       "      <th>3</th>\n",
       "      <td>/Users/simin/Desktop/didi-udacity-2017-master/...</td>\n",
       "      <td>top_image2_00000.png</td>\n",
       "      <td>Van</td>\n",
       "      <td>109.0</td>\n",
       "      <td>131.0</td>\n",
       "      <td>-275.0</td>\n",
       "      <td>-209.0</td>\n",
       "    </tr>\n",
       "    <tr>\n",
       "      <th>4</th>\n",
       "      <td>/Users/simin/Desktop/didi-udacity-2017-master/...</td>\n",
       "      <td>top_image2_00000.png</td>\n",
       "      <td>Car</td>\n",
       "      <td>329.0</td>\n",
       "      <td>372.0</td>\n",
       "      <td>217.0</td>\n",
       "      <td>258.0</td>\n",
       "    </tr>\n",
       "  </tbody>\n",
       "</table>\n",
       "</div>"
      ],
      "text/plain": [
       "                                           File_Path                 Frame  \\\n",
       "0  /Users/simin/Desktop/didi-udacity-2017-master/...  top_image2_00000.png   \n",
       "1  /Users/simin/Desktop/didi-udacity-2017-master/...  top_image2_00000.png   \n",
       "2  /Users/simin/Desktop/didi-udacity-2017-master/...  top_image2_00000.png   \n",
       "3  /Users/simin/Desktop/didi-udacity-2017-master/...  top_image2_00000.png   \n",
       "4  /Users/simin/Desktop/didi-udacity-2017-master/...  top_image2_00000.png   \n",
       "\n",
       "  Label   xmin   xmax   ymin   ymax  \n",
       "0   Car  192.0  220.0  221.0  260.0  \n",
       "1   Car  125.0  141.0   99.0  136.0  \n",
       "2   Car  184.0  202.0 -103.0  -62.0  \n",
       "3   Van  109.0  131.0 -275.0 -209.0  \n",
       "4   Car  329.0  372.0  217.0  258.0  "
      ]
     },
     "execution_count": 13,
     "metadata": {},
     "output_type": "execute_result"
    }
   ],
   "source": [
    "df_vehicles2.head()"
   ]
  },
  {
   "cell_type": "code",
   "execution_count": 14,
   "metadata": {
    "collapsed": true
   },
   "outputs": [],
   "source": [
    "df_files3=pd.read_csv('test3.csv', header=0)\n",
    "df_vehicles3=df_files3[(df_files3['Label']=='Car')|(df_files3['Label']=='Van')|(df_files3['Label']=='Truck')].reset_index()\n",
    "df_vehicles3=df_vehicles3.drop('index',1)"
   ]
  },
  {
   "cell_type": "code",
   "execution_count": 15,
   "metadata": {},
   "outputs": [
    {
     "data": {
      "text/html": [
       "<div>\n",
       "<table border=\"1\" class=\"dataframe\">\n",
       "  <thead>\n",
       "    <tr style=\"text-align: right;\">\n",
       "      <th></th>\n",
       "      <th>File_Path</th>\n",
       "      <th>Frame</th>\n",
       "      <th>Label</th>\n",
       "      <th>xmin</th>\n",
       "      <th>xmax</th>\n",
       "      <th>ymin</th>\n",
       "      <th>ymax</th>\n",
       "    </tr>\n",
       "  </thead>\n",
       "  <tbody>\n",
       "    <tr>\n",
       "      <th>2260</th>\n",
       "      <td>/Users/simin/Desktop/didi-udacity-2017-master/...</td>\n",
       "      <td>top_image3_00356.png</td>\n",
       "      <td>Car</td>\n",
       "      <td>239.0</td>\n",
       "      <td>256.0</td>\n",
       "      <td>156.0</td>\n",
       "      <td>190.0</td>\n",
       "    </tr>\n",
       "    <tr>\n",
       "      <th>2261</th>\n",
       "      <td>/Users/simin/Desktop/didi-udacity-2017-master/...</td>\n",
       "      <td>top_image3_00357.png</td>\n",
       "      <td>Car</td>\n",
       "      <td>239.0</td>\n",
       "      <td>256.0</td>\n",
       "      <td>155.0</td>\n",
       "      <td>188.0</td>\n",
       "    </tr>\n",
       "    <tr>\n",
       "      <th>2262</th>\n",
       "      <td>/Users/simin/Desktop/didi-udacity-2017-master/...</td>\n",
       "      <td>top_image3_00358.png</td>\n",
       "      <td>Car</td>\n",
       "      <td>239.0</td>\n",
       "      <td>256.0</td>\n",
       "      <td>153.0</td>\n",
       "      <td>186.0</td>\n",
       "    </tr>\n",
       "    <tr>\n",
       "      <th>2263</th>\n",
       "      <td>/Users/simin/Desktop/didi-udacity-2017-master/...</td>\n",
       "      <td>top_image3_00359.png</td>\n",
       "      <td>Car</td>\n",
       "      <td>239.0</td>\n",
       "      <td>256.0</td>\n",
       "      <td>151.0</td>\n",
       "      <td>184.0</td>\n",
       "    </tr>\n",
       "    <tr>\n",
       "      <th>2264</th>\n",
       "      <td>/Users/simin/Desktop/didi-udacity-2017-master/...</td>\n",
       "      <td>top_image3_00360.png</td>\n",
       "      <td>Car</td>\n",
       "      <td>240.0</td>\n",
       "      <td>256.0</td>\n",
       "      <td>149.0</td>\n",
       "      <td>183.0</td>\n",
       "    </tr>\n",
       "  </tbody>\n",
       "</table>\n",
       "</div>"
      ],
      "text/plain": [
       "                                              File_Path                 Frame  \\\n",
       "2260  /Users/simin/Desktop/didi-udacity-2017-master/...  top_image3_00356.png   \n",
       "2261  /Users/simin/Desktop/didi-udacity-2017-master/...  top_image3_00357.png   \n",
       "2262  /Users/simin/Desktop/didi-udacity-2017-master/...  top_image3_00358.png   \n",
       "2263  /Users/simin/Desktop/didi-udacity-2017-master/...  top_image3_00359.png   \n",
       "2264  /Users/simin/Desktop/didi-udacity-2017-master/...  top_image3_00360.png   \n",
       "\n",
       "     Label   xmin   xmax   ymin   ymax  \n",
       "2260   Car  239.0  256.0  156.0  190.0  \n",
       "2261   Car  239.0  256.0  155.0  188.0  \n",
       "2262   Car  239.0  256.0  153.0  186.0  \n",
       "2263   Car  239.0  256.0  151.0  184.0  \n",
       "2264   Car  240.0  256.0  149.0  183.0  "
      ]
     },
     "execution_count": 15,
     "metadata": {},
     "output_type": "execute_result"
    }
   ],
   "source": [
    "df_vehicles3.tail()"
   ]
  },
  {
   "cell_type": "code",
   "execution_count": 16,
   "metadata": {},
   "outputs": [
    {
     "data": {
      "text/html": [
       "<div>\n",
       "<table border=\"1\" class=\"dataframe\">\n",
       "  <thead>\n",
       "    <tr style=\"text-align: right;\">\n",
       "      <th></th>\n",
       "      <th>File_Path</th>\n",
       "      <th>Frame</th>\n",
       "      <th>Label</th>\n",
       "      <th>xmin</th>\n",
       "      <th>xmax</th>\n",
       "      <th>ymin</th>\n",
       "      <th>ymax</th>\n",
       "    </tr>\n",
       "  </thead>\n",
       "  <tbody>\n",
       "    <tr>\n",
       "      <th>0</th>\n",
       "      <td>/Users/simin/Desktop/didi-udacity-2017-master/...</td>\n",
       "      <td>top_image4_00000.png</td>\n",
       "      <td>Car</td>\n",
       "      <td>242.0</td>\n",
       "      <td>258.0</td>\n",
       "      <td>227.0</td>\n",
       "      <td>264.0</td>\n",
       "    </tr>\n",
       "    <tr>\n",
       "      <th>1</th>\n",
       "      <td>/Users/simin/Desktop/didi-udacity-2017-master/...</td>\n",
       "      <td>top_image4_00000.png</td>\n",
       "      <td>Car</td>\n",
       "      <td>275.0</td>\n",
       "      <td>317.0</td>\n",
       "      <td>333.0</td>\n",
       "      <td>373.0</td>\n",
       "    </tr>\n",
       "    <tr>\n",
       "      <th>2</th>\n",
       "      <td>/Users/simin/Desktop/didi-udacity-2017-master/...</td>\n",
       "      <td>top_image4_00000.png</td>\n",
       "      <td>Car</td>\n",
       "      <td>278.0</td>\n",
       "      <td>314.0</td>\n",
       "      <td>300.0</td>\n",
       "      <td>336.0</td>\n",
       "    </tr>\n",
       "    <tr>\n",
       "      <th>3</th>\n",
       "      <td>/Users/simin/Desktop/didi-udacity-2017-master/...</td>\n",
       "      <td>top_image4_00000.png</td>\n",
       "      <td>Car</td>\n",
       "      <td>275.0</td>\n",
       "      <td>314.0</td>\n",
       "      <td>262.0</td>\n",
       "      <td>301.0</td>\n",
       "    </tr>\n",
       "    <tr>\n",
       "      <th>4</th>\n",
       "      <td>/Users/simin/Desktop/didi-udacity-2017-master/...</td>\n",
       "      <td>top_image4_00000.png</td>\n",
       "      <td>Car</td>\n",
       "      <td>272.0</td>\n",
       "      <td>314.0</td>\n",
       "      <td>227.0</td>\n",
       "      <td>267.0</td>\n",
       "    </tr>\n",
       "  </tbody>\n",
       "</table>\n",
       "</div>"
      ],
      "text/plain": [
       "                                           File_Path                 Frame  \\\n",
       "0  /Users/simin/Desktop/didi-udacity-2017-master/...  top_image4_00000.png   \n",
       "1  /Users/simin/Desktop/didi-udacity-2017-master/...  top_image4_00000.png   \n",
       "2  /Users/simin/Desktop/didi-udacity-2017-master/...  top_image4_00000.png   \n",
       "3  /Users/simin/Desktop/didi-udacity-2017-master/...  top_image4_00000.png   \n",
       "4  /Users/simin/Desktop/didi-udacity-2017-master/...  top_image4_00000.png   \n",
       "\n",
       "  Label   xmin   xmax   ymin   ymax  \n",
       "0   Car  242.0  258.0  227.0  264.0  \n",
       "1   Car  275.0  317.0  333.0  373.0  \n",
       "2   Car  278.0  314.0  300.0  336.0  \n",
       "3   Car  275.0  314.0  262.0  301.0  \n",
       "4   Car  272.0  314.0  227.0  267.0  "
      ]
     },
     "execution_count": 16,
     "metadata": {},
     "output_type": "execute_result"
    }
   ],
   "source": [
    "df_files4=pd.read_csv('test4.csv', header=0)\n",
    "df_vehicles4=df_files4[(df_files4['Label']=='Car')|(df_files4['Label']=='Van')].reset_index()\n",
    "df_vehicles4=df_vehicles4.drop('index',1)\n",
    "df_vehicles4.head()"
   ]
  },
  {
   "cell_type": "code",
   "execution_count": 17,
   "metadata": {
    "collapsed": true
   },
   "outputs": [],
   "source": [
    "# df_vehicles=pd.concat([df_vehicles1,df_vehicles2,df_vehicles3]).reset_index()\n",
    "# df_vehicles=df_vehicles.drop('index',1)\n",
    "# df_vehicles.columns=['File_Path','Frame','Label','xmin','xmax','ymin','ymax']\n",
    "# df_vehicles['Frame'][3002]\n",
    "df_vehicles=pd.concat([df_vehicles1,df_vehicles2,df_vehicles3, df_vehicles4]).reset_index()\n",
    "df_vehicles=df_vehicles.drop('index',1)\n",
    "df_vehicles.columns=['File_Path','Frame','Label','xmin','xmax','ymin','ymax']\n",
    "a=df_vehicles[df_vehicles['xmin']>=0]\n",
    "b=a[a['xmax']<=500]\n",
    "c=b[b['ymin']>=0]\n",
    "e=c[c['ymax']<=400]\n",
    "df_vehicles=e.reset_index()"
   ]
  },
  {
   "cell_type": "code",
   "execution_count": 18,
   "metadata": {},
   "outputs": [
    {
     "data": {
      "text/html": [
       "<div>\n",
       "<table border=\"1\" class=\"dataframe\">\n",
       "  <thead>\n",
       "    <tr style=\"text-align: right;\">\n",
       "      <th></th>\n",
       "      <th>index</th>\n",
       "      <th>File_Path</th>\n",
       "      <th>Frame</th>\n",
       "      <th>Label</th>\n",
       "      <th>xmin</th>\n",
       "      <th>xmax</th>\n",
       "      <th>ymin</th>\n",
       "      <th>ymax</th>\n",
       "    </tr>\n",
       "  </thead>\n",
       "  <tbody>\n",
       "    <tr>\n",
       "      <th>5503</th>\n",
       "      <td>9690</td>\n",
       "      <td>/Users/simin/Desktop/didi-udacity-2017-master/...</td>\n",
       "      <td>top_image4_00368.png</td>\n",
       "      <td>Car</td>\n",
       "      <td>309.0</td>\n",
       "      <td>331.0</td>\n",
       "      <td>55.0</td>\n",
       "      <td>94.0</td>\n",
       "    </tr>\n",
       "    <tr>\n",
       "      <th>5504</th>\n",
       "      <td>9691</td>\n",
       "      <td>/Users/simin/Desktop/didi-udacity-2017-master/...</td>\n",
       "      <td>top_image4_00369.png</td>\n",
       "      <td>Car</td>\n",
       "      <td>310.0</td>\n",
       "      <td>331.0</td>\n",
       "      <td>48.0</td>\n",
       "      <td>87.0</td>\n",
       "    </tr>\n",
       "    <tr>\n",
       "      <th>5505</th>\n",
       "      <td>9692</td>\n",
       "      <td>/Users/simin/Desktop/didi-udacity-2017-master/...</td>\n",
       "      <td>top_image4_00370.png</td>\n",
       "      <td>Car</td>\n",
       "      <td>310.0</td>\n",
       "      <td>332.0</td>\n",
       "      <td>42.0</td>\n",
       "      <td>81.0</td>\n",
       "    </tr>\n",
       "    <tr>\n",
       "      <th>5506</th>\n",
       "      <td>9693</td>\n",
       "      <td>/Users/simin/Desktop/didi-udacity-2017-master/...</td>\n",
       "      <td>top_image4_00371.png</td>\n",
       "      <td>Car</td>\n",
       "      <td>311.0</td>\n",
       "      <td>332.0</td>\n",
       "      <td>36.0</td>\n",
       "      <td>75.0</td>\n",
       "    </tr>\n",
       "    <tr>\n",
       "      <th>5507</th>\n",
       "      <td>9694</td>\n",
       "      <td>/Users/simin/Desktop/didi-udacity-2017-master/...</td>\n",
       "      <td>top_image4_00372.png</td>\n",
       "      <td>Car</td>\n",
       "      <td>312.0</td>\n",
       "      <td>333.0</td>\n",
       "      <td>30.0</td>\n",
       "      <td>68.0</td>\n",
       "    </tr>\n",
       "  </tbody>\n",
       "</table>\n",
       "</div>"
      ],
      "text/plain": [
       "      index                                          File_Path  \\\n",
       "5503   9690  /Users/simin/Desktop/didi-udacity-2017-master/...   \n",
       "5504   9691  /Users/simin/Desktop/didi-udacity-2017-master/...   \n",
       "5505   9692  /Users/simin/Desktop/didi-udacity-2017-master/...   \n",
       "5506   9693  /Users/simin/Desktop/didi-udacity-2017-master/...   \n",
       "5507   9694  /Users/simin/Desktop/didi-udacity-2017-master/...   \n",
       "\n",
       "                     Frame Label   xmin   xmax  ymin  ymax  \n",
       "5503  top_image4_00368.png   Car  309.0  331.0  55.0  94.0  \n",
       "5504  top_image4_00369.png   Car  310.0  331.0  48.0  87.0  \n",
       "5505  top_image4_00370.png   Car  310.0  332.0  42.0  81.0  \n",
       "5506  top_image4_00371.png   Car  311.0  332.0  36.0  75.0  \n",
       "5507  top_image4_00372.png   Car  312.0  333.0  30.0  68.0  "
      ]
     },
     "execution_count": 18,
     "metadata": {},
     "output_type": "execute_result"
    }
   ],
   "source": [
    "df_vehicles.tail()"
   ]
  },
  {
   "cell_type": "code",
   "execution_count": 19,
   "metadata": {},
   "outputs": [
    {
     "data": {
      "text/plain": [
       "5508"
      ]
     },
     "execution_count": 19,
     "metadata": {},
     "output_type": "execute_result"
    }
   ],
   "source": [
    "len(df_vehicles)"
   ]
  },
  {
   "cell_type": "code",
   "execution_count": 20,
   "metadata": {
    "collapsed": true
   },
   "outputs": [],
   "source": [
    "\n",
    "\n",
    "def trans_image(image,bb_boxes_f,trans_range):\n",
    "    # Translation augmentation\n",
    "    bb_boxes_f = bb_boxes_f.copy(deep=True)\n",
    "\n",
    "    tr_x = trans_range*np.random.uniform()-trans_range/2\n",
    "    tr_y = trans_range*np.random.uniform()-trans_range/2\n",
    "\n",
    "    Trans_M = np.float32([[1,0,tr_x],[0,1,tr_y]])\n",
    "    rows,cols,channels = image.shape\n",
    "    bb_boxes_f['xmin'] = bb_boxes_f['xmin']+tr_x\n",
    "    bb_boxes_f['xmax'] = bb_boxes_f['xmax']+tr_x\n",
    "    bb_boxes_f['ymin'] = bb_boxes_f['ymin']+tr_y\n",
    "    bb_boxes_f['ymax'] = bb_boxes_f['ymax']+tr_y\n",
    "    \n",
    "    image_tr = cv2.warpAffine(image,Trans_M,(cols,rows))\n",
    "    \n",
    "    return image_tr,bb_boxes_f\n",
    "\n",
    "\n",
    "\n",
    "def stretch_image(img,bb_boxes_f,scale_range):\n",
    "    # Stretching augmentation \n",
    "    \n",
    "    bb_boxes_f = bb_boxes_f.copy(deep=True)\n",
    "    \n",
    "    tr_x1 = scale_range*np.random.uniform()\n",
    "    tr_y1 = scale_range*np.random.uniform()\n",
    "    p1 = (tr_x1,tr_y1)\n",
    "    tr_x2 = scale_range*np.random.uniform()\n",
    "    tr_y2 = scale_range*np.random.uniform()\n",
    "    p2 = (img.shape[1]-tr_x2,tr_y1)\n",
    "\n",
    "    p3 = (img.shape[1]-tr_x2,img.shape[0]-tr_y2)\n",
    "    p4 = (tr_x1,img.shape[0]-tr_y2)\n",
    "\n",
    "    pts1 = np.float32([[p1[0],p1[1]],\n",
    "                   [p2[0],p2[1]],\n",
    "                   [p3[0],p3[1]],\n",
    "                   [p4[0],p4[1]]])\n",
    "    pts2 = np.float32([[0,0],\n",
    "                   [img.shape[1],0],\n",
    "                   [img.shape[1],img.shape[0]],\n",
    "                   [0,img.shape[0]] ]\n",
    "                   )\n",
    "\n",
    "    M = cv2.getPerspectiveTransform(pts1,pts2)\n",
    "    img = cv2.warpPerspective(img,M,(img.shape[1],img.shape[0]))\n",
    "    img = np.array(img,dtype=np.uint8)\n",
    "    \n",
    "    bb_boxes_f['xmin'] = (bb_boxes_f['xmin'] - p1[0])/(p2[0]-p1[0])*img.shape[1]\n",
    "    bb_boxes_f['xmax'] = (bb_boxes_f['xmax'] - p1[0])/(p2[0]-p1[0])*img.shape[1]\n",
    "    bb_boxes_f['ymin'] = (bb_boxes_f['ymin'] - p1[1])/(p3[1]-p1[1])*img.shape[0]\n",
    "    bb_boxes_f['ymax'] = (bb_boxes_f['ymax'] - p1[1])/(p3[1]-p1[1])*img.shape[0]\n",
    "    \n",
    "    return img,bb_boxes_f\n",
    "\n",
    "\n",
    "\n",
    "### Augmentation functions \n",
    "\n",
    "def augment_brightness_camera_images(image):\n",
    "    \n",
    "    ### Augment brightness\n",
    "    \n",
    "    image1=cv2.cvtColor(image, cv2.COLOR_RGB2YUV)\n",
    "    random_bright=.5+np.random.uniform()\n",
    "    image1[:,:,0]=image1[:,:,0]*random_bright\n",
    "    image1=cv2.cvtColor(image1, cv2.COLOR_YUV2RGB)\n",
    "    \n",
    "    return image1\n",
    "\n",
    "saturation_var=0.5\n",
    "brightness_var=0.5\n",
    "contrast_var=0.5\n",
    "lighting_std=0.5\n",
    "hflip_prob=0.5\n",
    "vflip_prob=0.5\n",
    "\n",
    "\n",
    "def grayscale(rgb):\n",
    "    return rgb.dot([0.299, 0.587, 0.114])\n",
    "\n",
    "def saturation(rgb):\n",
    "    gs = grayscale(rgb)\n",
    "    alpha = 2 * np.random.random() * saturation_var \n",
    "    alpha += 1 - saturation_var\n",
    "    rgb = rgb * alpha + (1 - alpha) * gs[:, :, None]\n",
    "    return np.clip(rgb, 0, 255)\n",
    "\n",
    "def brightness(rgb):\n",
    "#     rgb=cv2.cvtColor(rgb, cv2.COLOR_RGB2YUV)\n",
    "#     random_bright=1.5+np.random.uniform()\n",
    "#     rgb[:,:,0]=rgb[:,:,0]*random_bright\n",
    "#     rgb=cv2.cvtColor(rgb, cv2.COLOR_YUV2RGB)\n",
    "    alpha = 2 * np.random.random() * brightness_var \n",
    "    alpha += 1 - saturation_var\n",
    "    rgb = rgb * alpha\n",
    "    return rgb\n",
    "def contrast( rgb):\n",
    "    gs = grayscale(rgb).mean() * np.ones_like(rgb)\n",
    "    alpha = 2 * np.random.random() * contrast_var \n",
    "    alpha += 1 - contrast_var\n",
    "    rgb = rgb * alpha + (1 - alpha) * gs\n",
    "    return np.clip(rgb, 0, 255)\n",
    "\n"
   ]
  },
  {
   "cell_type": "code",
   "execution_count": 21,
   "metadata": {
    "collapsed": true
   },
   "outputs": [],
   "source": [
    "# im=cv2.imread(df_vehicles['File_Path'][0])\n",
    "# im=cv2.cvtColor(im, cv2.COLOR_BGR2RGB)\n",
    "\n",
    "# imm=augment_brightness_camera_images(im)\n",
    "# plt.imshow(imm)"
   ]
  },
  {
   "cell_type": "code",
   "execution_count": null,
   "metadata": {
    "collapsed": true
   },
   "outputs": [],
   "source": []
  },
  {
   "cell_type": "code",
   "execution_count": 22,
   "metadata": {
    "collapsed": true
   },
   "outputs": [],
   "source": [
    "def rotate_image(image, bb_boxes_f):\n",
    "     \n",
    "    \n",
    "    bb_boxes_ = bb_boxes_f.copy(deep=True)\n",
    "    \n",
    "    num=np.random.randint(5)\n",
    "    angle=90*num\n",
    "    print(angle)\n",
    "    h,w,ch=image.shape\n",
    "\n",
    "    \n",
    "    \n",
    "    M=cv2.getRotationMatrix2D((w//2,h//2),angle,1)\n",
    "    cos1=np.abs(M[0,0])\n",
    "    sin1=np.abs(M[0,1])\n",
    "    cos=np.cos(angle*np.pi/180)\n",
    "    sin=np.sin(angle*np.pi/180)\n",
    "    nw=int((h*sin1)+(w*cos1))\n",
    "    nh=int((h*cos1)+(w*sin1))\n",
    "   \n",
    "    M[0,2]+=(nw/2)-w//2\n",
    "    M[1,2]+=(nh/2)-h//2\n",
    "    \n",
    "#     cw=np.abs((nw/2)-w/2)\n",
    "#     ch=np.abs((nh/2)-h/2)\n",
    "\n",
    "    rot_im=cv2.warpAffine(image,M,(nw,nh))\n",
    "    \n",
    "    #plt.plot(w/2,h/2,'bs')\n",
    "    \n",
    "    crx=(rot_im.shape[1]//2)\n",
    "    cry=(rot_im.shape[0]//2)\n",
    "    delta_x=int((crx-w//2))*sin\n",
    "    delta_y=int((cry-h//2))*sin\n",
    "    \n",
    "    bb_boxes_['xmin'] = np.rint((bb_boxes_f['xmin']-crx)*cos + (bb_boxes_f['ymin']-cry)*sin + crx)+delta_y\n",
    "    bb_boxes_['ymin'] = np.rint(cry - (bb_boxes_f['xmin']-crx)*sin + (bb_boxes_f['ymin']-cry)*cos)-delta_x\n",
    "    bb_boxes_['xmax'] = np.rint((bb_boxes_f['xmax']-crx)*cos + (bb_boxes_f['ymax']-cry)*sin + crx)+delta_y\n",
    "    bb_boxes_['ymax'] = np.rint(cry - (bb_boxes_f['xmax']-crx)*sin + (bb_boxes_f['ymax']-cry)*cos)-delta_x\n",
    "    \n",
    "    #print('sin',str(sin))\n",
    "#     print('cos', str(cos))\n",
    "    #print(delta_x, delta_y)\n",
    "    #print('nw',str(nw), 'nh',str(nh))\n",
    "    #plt.plot(rot_im.shape[1]/2,rot_im.shape[0]/2,'rs')\n",
    "    return rot_im, bb_boxes_"
   ]
  },
  {
   "cell_type": "code",
   "execution_count": null,
   "metadata": {
    "collapsed": true
   },
   "outputs": [],
   "source": []
  },
  {
   "cell_type": "code",
   "execution_count": 23,
   "metadata": {
    "collapsed": true
   },
   "outputs": [],
   "source": [
    "# def plot_bbox1(bb_boxes,ind_bb,color='r',linewidth=2):\n",
    "#     ### Plot bounding box\n",
    "    \n",
    "#     bb_box_i = [bb_boxes.iloc[ind_bb][0],\n",
    "#                 bb_boxes.iloc[ind_bb][1],\n",
    "#                 bb_boxes.iloc[ind_bb][2],\n",
    "#                 bb_boxes.iloc[ind_bb][3]]\n",
    "#     plt.plot([bb_box_i[0],bb_box_i[2],bb_box_i[2],\n",
    "#                   bb_box_i[0],bb_box_i[0]],\n",
    "#              [bb_box_i[1],bb_box_i[1],bb_box_i[3],\n",
    "#                   bb_box_i[3],bb_box_i[1]],\n",
    "#              color,linewidth=linewidth)\n",
    "    \n",
    "    \n",
    "# def plot_im_bbox1(im,bb_boxes):\n",
    "#     ### Plot image and bounding box\n",
    "#     plt.imshow(im)\n",
    "#     for i in range(len(bb_boxes)):\n",
    "#         plot_bbox1(bb_boxes,i,'g')\n",
    "    \n",
    "#         bb_box_i = [bb_boxes.iloc[i][0],bb_boxes.iloc[i][1],\n",
    "#                 bb_boxes.iloc[i][2],bb_boxes.iloc[i][3]]\n",
    "#         plt.plot(bb_box_i[0],bb_box_i[1],'rs')\n",
    "#         plt.plot(bb_box_i[2],bb_box_i[3],'bs')\n",
    "# #         print('bb_i',str(bb_box_i[0]),str(bb_box_i[1]))\n",
    "#     plt.axis('off')\n",
    "    \n",
    "    \n",
    "def plot_bbox1(bb_boxes,ind_bb,color='r',linewidth=2):\n",
    "    ### Plot bounding box\n",
    "    \n",
    "    bb_box_i = [bb_boxes.iloc[ind_bb]['xmin'],\n",
    "                bb_boxes.iloc[ind_bb]['ymin'],\n",
    "                bb_boxes.iloc[ind_bb]['xmax'],\n",
    "                bb_boxes.iloc[ind_bb]['ymax']]\n",
    "    plt.plot([bb_box_i[0],bb_box_i[2],bb_box_i[2],\n",
    "                  bb_box_i[0],bb_box_i[0]],\n",
    "             [bb_box_i[1],bb_box_i[1],bb_box_i[3],\n",
    "                  bb_box_i[3],bb_box_i[1]],\n",
    "             color,linewidth=linewidth)\n",
    "    \n",
    "def plot_im_bbox1(im,bb_boxes):\n",
    "    ### Plot image and bounding box\n",
    "    plt.imshow(im)\n",
    "    for i in range(len(bb_boxes)):\n",
    "        plot_bbox1(bb_boxes,i,'g')\n",
    "    \n",
    "        bb_box_i = [bb_boxes.iloc[i]['xmin'],bb_boxes.iloc[i]['ymin'],\n",
    "                bb_boxes.iloc[i]['xmax'],bb_boxes.iloc[i]['ymax']]\n",
    "        plt.plot(bb_box_i[0],bb_box_i[1],'rs')\n",
    "        plt.plot(bb_box_i[2],bb_box_i[3],'bs')\n",
    "    plt.axis('off');\n",
    "    \n"
   ]
  },
  {
   "cell_type": "code",
   "execution_count": 24,
   "metadata": {
    "collapsed": true
   },
   "outputs": [],
   "source": [
    "df=df_vehicles['File_Path'][5400][46:]\n",
    "im=cv2.imread(df)\n",
    "name_str = df.split('/')\n",
    "name_str = name_str[-1]\n",
    "\n",
    "# #print(file_name)\n",
    "# bb_boxes = df_vehicles[df_vehicles['Frame'] == name_str].reset_index()\n",
    "# # plot_im_bbox1(im,bb_boxes)\n",
    "# # imm,bbb=trans_image(im,bb_boxes,trans_range=50)\n",
    "# #imm,bbb=stretch_image(im,bb_boxes,50)\n",
    "\n",
    "# # plot_im_bbox(imm, bbb)\n",
    "# ro,bb=rotate_image(im, bb_boxes )\n",
    "# plot_im_bbox1(ro,bb)\n",
    "# # print(bb_boxes)\n",
    "\n",
    "# # ro.shape\n",
    "# # plt.imshow(imm)"
   ]
  },
  {
   "cell_type": "markdown",
   "metadata": {
    "collapsed": true
   },
   "source": [
    "# "
   ]
  },
  {
   "cell_type": "code",
   "execution_count": null,
   "metadata": {
    "collapsed": true
   },
   "outputs": [],
   "source": []
  },
  {
   "cell_type": "code",
   "execution_count": 25,
   "metadata": {
    "collapsed": true
   },
   "outputs": [],
   "source": [
    "# def plot_bbox2(bb_boxes,ind_bb, color, linewidth):\n",
    "#     ### Plot bounding box\n",
    "    \n",
    "#     bb_box_i = [bb_boxes.iloc[ind_bb][0],\n",
    "#                 bb_boxes.iloc[ind_bb][1],\n",
    "#                 bb_boxes.iloc[ind_bb][2],\n",
    "#                 bb_boxes.iloc[ind_bb][3]]\n",
    "#     plt.plot([bb_box_i[0],bb_box_i[2],bb_box_i[2],\n",
    "#                   bb_box_i[0],bb_box_i[0]\n",
    "#                   ],\n",
    "#              [bb_box_i[1],bb_box_i[1],bb_box_i[3],\n",
    "#                   bb_box_i[3],bb_box_i[1]],\n",
    "#              color,linewidth=linewidth)\n",
    "    \n",
    "    \n",
    "    \n",
    "# #     plt.plot([bb_box_i[0]-5,bb_box_i[2]-5,bb_box_i[2]+5,\n",
    "# #                   bb_box_i[0],bb_box_i[0]-10\n",
    "# #                   ],\n",
    "# #              [bb_box_i[1],bb_box_i[1]-10,bb_box_i[3],\n",
    "# #                   bb_box_i[3]+10,bb_box_i[1]],\n",
    "# #              color,linewidth=linewidth)\n",
    "    \n",
    "# def plot_im_bbox2(im,bb_boxes):\n",
    "#     ### Plot image and bounding box\n",
    "#     plt.imshow(im)\n",
    "#     for i in range(len(bb_boxes)):\n",
    "# #         cx=crx[i]\n",
    "# #         cy=cry[i]\n",
    "#         plot_bbox2(bb_boxes,i, 'g',2)\n",
    "    \n",
    "#         bb_box_i = [bb_boxes.iloc[i][0],bb_boxes.iloc[i][1],\n",
    "#                 bb_boxes.iloc[i][2],bb_boxes.iloc[i][3]]\n",
    "# #         plt.plot(bb_box_i[0],bb_box_i[1],'rs')\n",
    "# #         plt.plot(bb_box_i[2],bb_box_i[3],'bs')"
   ]
  },
  {
   "cell_type": "code",
   "execution_count": null,
   "metadata": {
    "collapsed": true
   },
   "outputs": [],
   "source": []
  },
  {
   "cell_type": "code",
   "execution_count": 26,
   "metadata": {
    "collapsed": true
   },
   "outputs": [],
   "source": [
    "\n",
    "\n",
    "    \n",
    "    \n",
    "# ind=np.random.randint(200)\n",
    "file_name = df_vehicles['File_Path'][5490][46:]\n",
    "img=cv2.imread(file_name)\n",
    "img=cv2.cvtColor(img, cv2.COLOR_BGR2RGB)\n",
    "name_str = file_name.split('/')\n",
    "name_str = name_str[-1]\n",
    "mi=augment_brightness_camera_images(img)\n",
    "\n",
    "bb_boxes = df_vehicles[df_vehicles['Frame'] == name_str].reset_index()\n",
    "# top, bbox=trans_image(mi,bb_boxes,trans_range=5)\n",
    "# plt.figure(figsize=(8,8))\n",
    "top, bbox=stretch_image(mi,bb_boxes,scale_range=10)\n",
    "\n",
    "\n",
    "\n",
    "# rr,bb=rotate_image(mi, bb_boxes)\n",
    "# plot_im_bbox2(rr,bb)"
   ]
  },
  {
   "cell_type": "markdown",
   "metadata": {},
   "source": [
    "# "
   ]
  },
  {
   "cell_type": "code",
   "execution_count": 27,
   "metadata": {
    "collapsed": true
   },
   "outputs": [],
   "source": [
    "def get_image_name(df,ind,size=(500,400),augmentation = False,trans_range = 20,scale_range=20):\n",
    "    ### Get image by name\n",
    "    \n",
    "    file_name = df['File_Path'][ind][46:]\n",
    "    img = imread(file_name).astype('float32')\n",
    "    #img = cv2.imread(file_name)\n",
    "    img_size = np.shape(img)\n",
    "    \n",
    "#     img = cv2.cvtColor(img,cv2.COLOR_BGR2RGB)\n",
    "    im = cv2.resize(img,size)\n",
    "#     im=imresize(img, size).astype('float32')\n",
    "    name_str = file_name.split('/')\n",
    "    name_str = name_str[-1]\n",
    "    \n",
    "    #print(file_name)\n",
    "    bb_boxes = df[df['Frame'] == name_str].reset_index()\n",
    "    img_size_post = np.shape(im)\n",
    "    \n",
    "    random=np.random.randint(2)\n",
    "    if augmentation == True:\n",
    "                \n",
    "        im=saturation(im)\n",
    "        im=brightness(im)\n",
    "        im=contrast(im)\n",
    "        \n",
    "        if(random==0):\n",
    "            im,bb_boxes = trans_image(im,bb_boxes,trans_range)\n",
    "        elif(random==1):\n",
    "            im,bb_boxes = stretch_image(im,bb_boxes,scale_range)\n",
    "\n",
    "#         im = augment_brightness_camera_images(im)\n",
    "        \n",
    "    bb_boxes['xmin'] = np.rint(bb_boxes['xmin']/img_size[1]*img_size_post[1])\n",
    "    bb_boxes['xmax'] = np.rint(bb_boxes['xmax']/img_size[1]*img_size_post[1])\n",
    "    bb_boxes['ymin'] = np.rint(bb_boxes['ymin']/img_size[0]*img_size_post[0])\n",
    "    bb_boxes['ymax'] = np.rint(bb_boxes['ymax']/img_size[0]*img_size_post[0])\n",
    "    bb_boxes['Area'] = (bb_boxes['xmax']- bb_boxes['xmin'])*(bb_boxes['ymax']- bb_boxes['ymin']) \n",
    "    #bb_boxes = bb_boxes[bb_boxes['Area']>400]\n",
    "        \n",
    "    \n",
    "    return name_str,im,bb_boxes\n",
    "\n",
    "\n",
    "def get_mask_seg(img,bb_boxes_f):\n",
    "    \n",
    "    #### Get mask \n",
    "    \n",
    "    img_mask = np.zeros_like(img[:,:,0])\n",
    "    for i in range(len(bb_boxes_f)):\n",
    "        #plot_bbox(bb_boxes,i,'g')\n",
    "        bb_box_i = [bb_boxes_f.iloc[i]['xmin'],bb_boxes_f.iloc[i]['ymin'],\n",
    "                bb_boxes_f.iloc[i]['xmax'],bb_boxes_f.iloc[i]['ymax']]\n",
    "        bb_box_i=np.array(bb_box_i).astype('uint16')\n",
    "        img_mask[bb_box_i[1]:bb_box_i[3],bb_box_i[0]:bb_box_i[2]]=1.\n",
    "        #print(bb_box_i[1],bb_box_i[3],bb_box_i[0],bb_box_i[2])\n",
    "        img_mask = np.reshape(img_mask,(np.shape(img_mask)[0],np.shape(img_mask)[1],1))\n",
    "    return img_mask"
   ]
  },
  {
   "cell_type": "code",
   "execution_count": null,
   "metadata": {
    "collapsed": true
   },
   "outputs": [],
   "source": []
  },
  {
   "cell_type": "code",
   "execution_count": 28,
   "metadata": {
    "collapsed": true
   },
   "outputs": [],
   "source": [
    "def plot_im_mask(im,im_mask):\n",
    "    ### Function to plot image mask \n",
    "    \n",
    "    im = np.array(im,dtype=np.uint8)\n",
    "    im_mask = np.array(im_mask,dtype=np.uint8)\n",
    "    plt.subplot(1,3,1)\n",
    "    plt.imshow(im)\n",
    "    plt.axis('off')\n",
    "    plt.subplot(1,3,2)\n",
    "    plt.imshow(im_mask[:,:,0])\n",
    "    plt.axis('off')\n",
    "    plt.subplot(1,3,3)\n",
    "    plt.imshow(cv2.bitwise_and(im,im,mask=im_mask));\n",
    "    plt.axis('off')\n",
    "    plt.show();\n",
    "    \n",
    "def plot_bbox(bb_boxes,ind_bb,color='r',linewidth=2):\n",
    "    ### Plot bounding box\n",
    "    \n",
    "    bb_box_i = [bb_boxes.iloc[ind_bb]['xmin'],\n",
    "                bb_boxes.iloc[ind_bb]['ymin'],\n",
    "                bb_boxes.iloc[ind_bb]['xmax'],\n",
    "                bb_boxes.iloc[ind_bb]['ymax']]\n",
    "    plt.plot([bb_box_i[0],bb_box_i[2],bb_box_i[2],\n",
    "                  bb_box_i[0],bb_box_i[0]],\n",
    "             [bb_box_i[1],bb_box_i[1],bb_box_i[3],\n",
    "                  bb_box_i[3],bb_box_i[1]],\n",
    "             color,linewidth=linewidth)\n",
    "    \n",
    "def plot_im_bbox(im,bb_boxes):\n",
    "    ### Plot image and bounding box\n",
    "    plt.imshow(im)\n",
    "    for i in range(len(bb_boxes)):\n",
    "        plot_bbox(bb_boxes,i,'g')\n",
    "    \n",
    "        bb_box_i = [bb_boxes.iloc[i]['xmin'],bb_boxes.iloc[i]['ymin'],\n",
    "                bb_boxes.iloc[i]['xmax'],bb_boxes.iloc[i]['ymax']]\n",
    "        plt.plot(bb_box_i[0],bb_box_i[1],'rs')\n",
    "        plt.plot(bb_box_i[2],bb_box_i[3],'bs')\n",
    "    plt.axis('off');\n"
   ]
  },
  {
   "cell_type": "code",
   "execution_count": null,
   "metadata": {
    "collapsed": true
   },
   "outputs": [],
   "source": []
  },
  {
   "cell_type": "code",
   "execution_count": 29,
   "metadata": {},
   "outputs": [
    {
     "name": "stdout",
     "output_type": "stream",
     "text": [
      "   level_0  index                                          File_Path  \\\n",
      "0        0      0  /Users/simin/Desktop/didi-udacity-2017-master/...   \n",
      "1        1      1  /Users/simin/Desktop/didi-udacity-2017-master/...   \n",
      "2        2      2  /Users/simin/Desktop/didi-udacity-2017-master/...   \n",
      "\n",
      "                 Frame Label  xmin   xmax   ymin   ymax   Area  \n",
      "0  top_image_00000.png   Car  76.0   91.0  167.0  200.0  495.0  \n",
      "1  top_image_00000.png   Car  79.0   98.0  117.0  160.0  817.0  \n",
      "2  top_image_00000.png   Car  85.0  103.0   70.0  107.0  666.0  \n"
     ]
    }
   ],
   "source": [
    "name_str,img,bb_boxes = get_image_name(df_vehicles,1,augmentation=False,trans_range=0,scale_range=0)\n",
    "\n",
    "print(bb_boxes)"
   ]
  },
  {
   "cell_type": "code",
   "execution_count": 30,
   "metadata": {},
   "outputs": [
    {
     "data": {
      "image/png": "[encoded data removed]",
      "text/plain": [
       "<matplotlib.figure.Figure at 0x7fe7ee038c18>"
      ]
     },
     "metadata": {},
     "output_type": "display_data"
    }
   ],
   "source": [
    "#### Test translation and stretching augmentations\n",
    "\n",
    "name_str,img,bb_boxes = get_image_name(df_vehicles,5300,augmentation=True,trans_range=0,scale_range=0)\n",
    "#img_mask =get_mask_seg(img,bb_boxes)\n",
    "\n",
    "tr_x1 = 80\n",
    "tr_y1 = 30\n",
    "tr_x2 = 40\n",
    "tr_y2 = 20\n",
    "\n",
    "\n",
    "\n",
    "p1 = (tr_x1,tr_y1)\n",
    "p2 = (img.shape[1]-tr_x2,tr_y1)\n",
    "\n",
    "p3 = (img.shape[1]-tr_x2,img.shape[0]-tr_y2)\n",
    "p4 = (tr_x1,img.shape[0]-tr_y2)\n",
    "\n",
    "pts1 = np.float32([[p1[0],p1[1]],\n",
    "                   [p2[0],p2[1]],\n",
    "                   [p3[0],p3[1]],\n",
    "                   [p4[0],p4[1]]])\n",
    "pts2 = np.float32([[0,0],\n",
    "                   [img.shape[1],0],\n",
    "                   [img.shape[1],img.shape[0]],[0,img.shape[0]] ]\n",
    "                   )\n",
    "\n",
    "M = cv2.getPerspectiveTransform(pts1,pts2)\n",
    "dst = cv2.warpPerspective(img,M,(img.shape[1],img.shape[0]))\n",
    "dst = np.array(dst,dtype=np.uint8)\n",
    "\n",
    "\n",
    "plt.figure(figsize=(12,8))\n",
    "plt.subplot(1,2,1)\n",
    "plt.imshow(img)\n",
    "plt.plot(p1[0],p1[1],'mo')\n",
    "plt.plot(p2[0],p2[1],'mo')\n",
    "plt.plot(p3[0],p3[1],'mo')\n",
    "plt.plot(p4[0],p4[1],'mo')\n",
    "for i in range(len(bb_boxes)):\n",
    "    plot_bbox(bb_boxes,i,'g')\n",
    "    \n",
    "    bb_box_i = [bb_boxes.iloc[i]['xmin'],bb_boxes.iloc[i]['ymin'],\n",
    "                bb_boxes.iloc[i]['xmax'],bb_boxes.iloc[i]['ymax']]\n",
    "    plt.plot(bb_box_i[0],bb_box_i[1],'rs')\n",
    "    plt.plot(bb_box_i[2],bb_box_i[3],'bs')\n",
    "plt.axis('off')\n",
    "plt.subplot(1,2,2)\n",
    "plt.imshow(dst)\n",
    "bb_boxes1 = bb_boxes.copy(deep=True)\n",
    "bb_boxes1['xmin'] = (bb_boxes['xmin'] - p1[0])/(p2[0]-p1[0])*img.shape[1]\n",
    "bb_boxes1['xmax'] = (bb_boxes['xmax'] - p1[0])/(p2[0]-p1[0])*img.shape[1]\n",
    "bb_boxes1['ymin'] = (bb_boxes['ymin'] - p1[1])/(p3[1]-p1[1])*img.shape[0]\n",
    "bb_boxes1['ymax'] = (bb_boxes['ymax'] - p1[1])/(p3[1]-p1[1])*img.shape[0]\n",
    "plt.plot(0,0,'mo')\n",
    "plt.plot(img.shape[1],0,'mo')\n",
    "plt.plot(img.shape[1],img.shape[0],'mo')\n",
    "plt.plot(0,img.shape[0],'mo')\n",
    "plot_im_bbox(dst,bb_boxes1)\n",
    "\n",
    "plt.axis('off');\n"
   ]
  },
  {
   "cell_type": "code",
   "execution_count": 31,
   "metadata": {},
   "outputs": [
    {
     "data": {
      "text/plain": [
       "<matplotlib.image.AxesImage at 0x7fe7ede43048>"
      ]
     },
     "execution_count": 31,
     "metadata": {},
     "output_type": "execute_result"
    },
    {
     "data": {
      "image/png": "[encoded data removed]",
      "text/plain": [
       "<matplotlib.figure.Figure at 0x7fe7ee011ef0>"
      ]
     },
     "metadata": {},
     "output_type": "display_data"
    }
   ],
   "source": [
    "img=img.astype('uint8')\n",
    "plt.imshow(img)"
   ]
  },
  {
   "cell_type": "code",
   "execution_count": 32,
   "metadata": {},
   "outputs": [
    {
     "data": {
      "image/png": "[encoded data removed]",
      "text/plain": [
       "<matplotlib.figure.Figure at 0x7fe7ee0981d0>"
      ]
     },
     "metadata": {},
     "output_type": "display_data"
    }
   ],
   "source": [
    "#### Test translation and stretching augmentations\n",
    "\n",
    "name_str,img,bb_boxes = get_image_name(df_vehicles,0,augmentation=False)\n",
    "img_mask =get_mask_seg(img,bb_boxes)\n",
    "\n",
    "plt.figure(figsize=(12,8))\n",
    "plt.subplot(2,2,1)\n",
    "plot_im_bbox(img,bb_boxes)\n",
    "\n",
    "plt.subplot(2,2,2)\n",
    "plt.imshow(img_mask[:,:,0])\n",
    "plt.axis('off')\n",
    "\n",
    "plt.subplot(2,2,3)\n",
    "bb_boxes1 = bb_boxes.copy(deep=True)\n",
    "dst,bb_boxes1 = stretch_image(img,bb_boxes1,80)\n",
    "\n",
    "plt.imshow(dst)\n",
    "\n",
    "plot_im_bbox(dst,bb_boxes1)\n",
    "\n",
    "plt.subplot(2,2,4)\n",
    "img_mask2 =get_mask_seg(dst,bb_boxes1)\n",
    "plt.imshow(img_mask2[:,:,0])\n",
    "plt.axis('off');"
   ]
  },
  {
   "cell_type": "code",
   "execution_count": null,
   "metadata": {
    "collapsed": true
   },
   "outputs": [],
   "source": []
  },
  {
   "cell_type": "code",
   "execution_count": null,
   "metadata": {
    "collapsed": true
   },
   "outputs": [],
   "source": []
  },
  {
   "cell_type": "code",
   "execution_count": 33,
   "metadata": {},
   "outputs": [
    {
     "data": {
      "image/png": "[encoded data removed]",
      "text/plain": [
       "<matplotlib.figure.Figure at 0x7fe7e6bc7160>"
      ]
     },
     "metadata": {},
     "output_type": "display_data"
    }
   ],
   "source": [
    "#### Test translation and stretching augmentations\n",
    "\n",
    "name_str,img,bb_boxes = get_image_name(df_vehicles,5450,augmentation=False)\n",
    "img_mask =get_mask_seg(img,bb_boxes)\n",
    "\n",
    "plt.figure(figsize=(12,8))\n",
    "plt.subplot(2,2,1)\n",
    "plot_im_bbox(img,bb_boxes)\n",
    "\n",
    "plt.subplot(2,2,2)\n",
    "plt.imshow(img_mask[:,:,0])\n",
    "plt.axis('off')\n",
    "\n",
    "plt.subplot(2,2,3)\n",
    "bb_boxes = bb_boxes.copy(deep=True)\n",
    "img_trans,bb_boxes1 = trans_image(img,bb_boxes,100)\n",
    "\n",
    "plt.imshow(img_trans)\n",
    "\n",
    "plot_im_bbox(img_trans,bb_boxes1)\n",
    "img_mask2 =get_mask_seg(img_trans,bb_boxes1)\n",
    "\n",
    "plt.subplot(2,2,4)\n",
    "plt.imshow(img_mask2[:,:,0])\n",
    "plt.axis('off');"
   ]
  },
  {
   "cell_type": "code",
   "execution_count": 34,
   "metadata": {},
   "outputs": [
    {
     "data": {
      "image/png": "[encoded data removed]",
      "text/plain": [
       "<matplotlib.figure.Figure at 0x7fe7edf04a20>"
      ]
     },
     "metadata": {},
     "output_type": "display_data"
    }
   ],
   "source": [
    "plt.figure(figsize=(12,8))\n",
    "plt.subplot(2,2,1)\n",
    "plot_im_bbox(img,bb_boxes)\n",
    "plt.subplot(2,2,2)\n",
    "#bb_boxes1 = bb_boxes.copy()\n",
    "img_trans,bb_boxes1 = trans_image(img,bb_boxes,50)\n",
    "plt.imshow(img_trans)\n",
    "plot_im_bbox(img_trans,bb_boxes1)\n"
   ]
  },
  {
   "cell_type": "code",
   "execution_count": 35,
   "metadata": {},
   "outputs": [
    {
     "data": {
      "image/png": "[encoded data removed]",
      "text/plain": [
       "<matplotlib.figure.Figure at 0x7fe7e6b363c8>"
      ]
     },
     "metadata": {},
     "output_type": "display_data"
    },
    {
     "data": {
      "image/png": "[encoded data removed]",
      "text/plain": [
       "<matplotlib.figure.Figure at 0x7fe7e6a0f0b8>"
      ]
     },
     "metadata": {},
     "output_type": "display_data"
    }
   ],
   "source": [
    "#### Put all the augmentations in 1 function with a flag for augmentation\n",
    "\n",
    "\n",
    "name_str,img,bb_boxes = get_image_name(df_vehicles,5475,augmentation=False)\n",
    "img_mask =get_mask_seg(img,bb_boxes)\n",
    "\n",
    "\n",
    "plt.figure(figsize=(6,4))\n",
    "plt.imshow(img)\n",
    "plot_im_bbox(img,bb_boxes)\n",
    "plt.show()\n",
    "\n",
    "plot_im_mask(img,img_mask)"
   ]
  },
  {
   "cell_type": "code",
   "execution_count": null,
   "metadata": {
    "collapsed": true
   },
   "outputs": [],
   "source": []
  },
  {
   "cell_type": "code",
   "execution_count": 36,
   "metadata": {
    "collapsed": true
   },
   "outputs": [],
   "source": [
    "#### Training generator, generates augmented images\n",
    "def generate_train_batch(data,batch_size = 32):\n",
    "    \n",
    "    batch_images = np.zeros((batch_size, img_rows, img_cols, 3))\n",
    "    batch_masks = np.zeros((batch_size, img_rows, img_cols, 1))\n",
    "    while 1:\n",
    "        for i_batch in range(batch_size):\n",
    "            i_line = np.random.randint(len(data)-100)\n",
    "            i_line = np.random.randint(len(data))\n",
    "            name_str,img,bb_boxes = get_image_name(df_vehicles,i_line,\n",
    "                                                   size=(img_cols, img_rows),\n",
    "                                                  augmentation=True,\n",
    "                                                   trans_range=50,\n",
    "                                                   scale_range=50\n",
    "                                                  )\n",
    "            img_mask = get_mask_seg(img,bb_boxes)\n",
    "            batch_images[i_batch] = img\n",
    "            batch_masks[i_batch] =img_mask\n",
    "        yield batch_images, batch_masks\n",
    "        \n",
    "#### Testing generator, generates augmented images\n",
    "def generate_test_batch(data,batch_size = 32):\n",
    "    batch_images = np.zeros((batch_size, img_rows, img_cols, 3))\n",
    "    batch_masks = np.zeros((batch_size, img_rows, img_cols, 1))\n",
    "    while 1:\n",
    "        for i_batch in range(batch_size):\n",
    "            i_line = np.random.randint(100)\n",
    "            i_line = i_line+len(data)-100\n",
    "            name_str,img,bb_boxes = get_image_name(df_vehicles,i_line,\n",
    "                                                   size=(img_cols, img_rows),\n",
    "                                                  augmentation=False,\n",
    "                                                   trans_range=0,\n",
    "                                                   scale_range=0\n",
    "                                                  )\n",
    "            img_mask = get_mask_seg(img,bb_boxes)\n",
    "            batch_images[i_batch] = img\n",
    "            batch_masks[i_batch] =img_mask\n",
    "        yield batch_images, batch_masks"
   ]
  },
  {
   "cell_type": "code",
   "execution_count": 37,
   "metadata": {
    "collapsed": true
   },
   "outputs": [],
   "source": [
    "# def generate_test_batch(data,batch_size = 32):\n",
    "#     batch_images = np.zeros((batch_size, img_rows, img_cols, 3))\n",
    "#     batch_masks = np.zeros((batch_size, img_rows, img_cols, 1))\n",
    "#     while 1:\n",
    "#         for i_batch in range(batch_size):\n",
    "#             i_line = np.random.randint(100)\n",
    "#             name_str,img,bb_boxes = get_image_name(test_objs,i_line,\n",
    "#                                                    size=(img_cols, img_rows),\n",
    "#                                                   augmentation=False,\n",
    "#                                                    trans_range=0,\n",
    "#                                                    scale_range=0\n",
    "#                                                   )\n",
    "#             img_mask = get_mask_seg(img,bb_boxes)\n",
    "#             batch_images[i_batch] = img\n",
    "#             batch_masks[i_batch] =img_mask\n",
    "#         yield batch_images, batch_masks"
   ]
  },
  {
   "cell_type": "code",
   "execution_count": null,
   "metadata": {
    "collapsed": true
   },
   "outputs": [],
   "source": []
  },
  {
   "cell_type": "code",
   "execution_count": 38,
   "metadata": {
    "collapsed": true
   },
   "outputs": [],
   "source": [
    "# strr,immm,bb=get_image_name(test_objs,100,size=(640,450),augmentation = False,trans_range = 0,scale_range=0)\n",
    "\n"
   ]
  },
  {
   "cell_type": "code",
   "execution_count": 39,
   "metadata": {
    "collapsed": true
   },
   "outputs": [],
   "source": [
    "# img_rows = 400\n",
    "# img_cols = 640\n",
    "# testing=generate_test_batch(test_objs,batch_size = 32)\n",
    "# batch_img,batch_mask = next(testing)\n",
    "# for i in range(1):\n",
    "#     im = np.array(batch_img[i],dtype=np.uint8)\n",
    "#     im_mask = np.array(batch_mask[i],dtype=np.uint8)\n",
    "#     plt.subplot(1,3,1)\n",
    "#     plt.imshow(im)\n",
    "#     plt.axis('off')\n",
    "#     plt.subplot(1,3,2)\n",
    "#     plt.imshow(im_mask[:,:,0])\n",
    "#     plt.axis('off')\n",
    "#     plt.subplot(1,3,3)\n",
    "#     plt.imshow(cv2.bitwise_and(im,im,mask=im_mask));\n",
    "#     plt.axis('off')\n",
    "#     plt.show();"
   ]
  },
  {
   "cell_type": "code",
   "execution_count": 40,
   "metadata": {
    "collapsed": true
   },
   "outputs": [],
   "source": [
    "##### Image size, \n",
    "img_rows = 320\n",
    "img_cols = 480\n",
    "# img_rows = 640\n",
    "# img_cols = 960"
   ]
  },
  {
   "cell_type": "code",
   "execution_count": 41,
   "metadata": {
    "collapsed": true
   },
   "outputs": [],
   "source": [
    "#### Testing the generator\n",
    "\n",
    "\n",
    "training_gen = generate_train_batch(df_vehicles,1)"
   ]
  },
  {
   "cell_type": "code",
   "execution_count": 42,
   "metadata": {},
   "outputs": [
    {
     "data": {
      "text/plain": [
       "1"
      ]
     },
     "execution_count": 42,
     "metadata": {},
     "output_type": "execute_result"
    }
   ],
   "source": [
    "batch_img,batch_mask = next(training_gen)\n",
    "len(batch_img)"
   ]
  },
  {
   "cell_type": "code",
   "execution_count": 43,
   "metadata": {},
   "outputs": [
    {
     "data": {
      "image/png": "[encoded data removed]",
      "text/plain": [
       "<matplotlib.figure.Figure at 0x7fe7e6b344a8>"
      ]
     },
     "metadata": {},
     "output_type": "display_data"
    }
   ],
   "source": [
    "### Plotting generator output\n",
    "for i in range(1):\n",
    "    im = np.array(batch_img[i],dtype=np.uint8)\n",
    "    im_mask = np.array(batch_mask[i],dtype=np.uint8)\n",
    "    plt.subplot(1,3,1)\n",
    "    plt.imshow(im)\n",
    "    plt.axis('off')\n",
    "    plt.subplot(1,3,2)\n",
    "    plt.imshow(im_mask[:,:,0])\n",
    "    plt.axis('off')\n",
    "    plt.subplot(1,3,3)\n",
    "    plt.imshow(cv2.bitwise_and(im,im,mask=im_mask));\n",
    "    plt.axis('off')\n",
    "    plt.show();"
   ]
  },
  {
   "cell_type": "code",
   "execution_count": null,
   "metadata": {
    "collapsed": true
   },
   "outputs": [],
   "source": []
  },
  {
   "cell_type": "code",
   "execution_count": null,
   "metadata": {
    "collapsed": true
   },
   "outputs": [],
   "source": []
  },
  {
   "cell_type": "code",
   "execution_count": 44,
   "metadata": {},
   "outputs": [
    {
     "data": {
      "text/plain": [
       "5508"
      ]
     },
     "execution_count": 44,
     "metadata": {},
     "output_type": "execute_result"
    }
   ],
   "source": [
    "len(df_vehicles)"
   ]
  },
  {
   "cell_type": "code",
   "execution_count": null,
   "metadata": {
    "collapsed": true
   },
   "outputs": [],
   "source": [
    "\n"
   ]
  },
  {
   "cell_type": "code",
   "execution_count": 45,
   "metadata": {
    "collapsed": true
   },
   "outputs": [],
   "source": [
    "### IOU or dice coeff calculation\n",
    "\n",
    "def IOU_calc(y_true, y_pred):\n",
    "    y_true_f = K.flatten(y_true)\n",
    "    y_pred_f = K.flatten(y_pred)\n",
    "    intersection = K.sum(y_true_f * y_pred_f)\n",
    "    \n",
    "    return 2*(intersection + smooth) / (K.sum(y_true_f) + K.sum(y_pred_f) + smooth)\n",
    "\n",
    "\n",
    "def IOU_calc_loss(y_true, y_pred):\n",
    "    return -IOU_calc(y_true, y_pred)"
   ]
  },
  {
   "cell_type": "code",
   "execution_count": 46,
   "metadata": {
    "collapsed": true
   },
   "outputs": [],
   "source": [
    "### Defining a small Unet\n",
    "### Smaller Unet defined so it fits in memory\n",
    "\n",
    "def get_small_unet():\n",
    "    inputs = Input((img_rows, img_cols,3))\n",
    "    inputs_norm = Lambda(lambda x: x/127.5-1.)\n",
    "    conv1 = Convolution2D(8, 3, 3, activation='relu', border_mode='same')(inputs)\n",
    "    conv1 = Convolution2D(8, 3, 3, activation='relu', border_mode='same')(conv1)\n",
    "    pool1 = MaxPooling2D(pool_size=(2, 2))(conv1)\n",
    "\n",
    "    conv2 = Convolution2D(16, 3, 3, activation='relu', border_mode='same')(pool1)\n",
    "    conv2 = Convolution2D(16, 3, 3, activation='relu', border_mode='same')(conv2)\n",
    "    pool2 = MaxPooling2D(pool_size=(2, 2))(conv2)\n",
    "\n",
    "    conv3 = Convolution2D(32, 3, 3, activation='relu', border_mode='same')(pool2)\n",
    "    conv3 = Convolution2D(32, 3, 3, activation='relu', border_mode='same')(conv3)\n",
    "    pool3 = MaxPooling2D(pool_size=(2, 2))(conv3)\n",
    "\n",
    "    conv4 = Convolution2D(64, 3, 3, activation='relu', border_mode='same')(pool3)\n",
    "    conv4 = Convolution2D(64, 3, 3, activation='relu', border_mode='same')(conv4)\n",
    "    pool4 = MaxPooling2D(pool_size=(2, 2))(conv4)\n",
    "\n",
    "    conv5 = Convolution2D(128, 3, 3, activation='relu', border_mode='same')(pool4)\n",
    "    conv5 = Convolution2D(128, 3, 3, activation='relu', border_mode='same')(conv5)\n",
    "\n",
    "    up6 = merge([UpSampling2D(size=(2, 2))(conv5), conv4], mode='concat', concat_axis=3)\n",
    "    conv6 = Convolution2D(64, 3, 3, activation='relu', border_mode='same')(up6)\n",
    "    conv6 = Convolution2D(64, 3, 3, activation='relu', border_mode='same')(conv6)\n",
    "\n",
    "    up7 = merge([UpSampling2D(size=(2, 2))(conv6), conv3], mode='concat', concat_axis=3)\n",
    "    conv7 = Convolution2D(32, 3, 3, activation='relu', border_mode='same')(up7)\n",
    "    conv7 = Convolution2D(32, 3, 3, activation='relu', border_mode='same')(conv7)\n",
    "\n",
    "    up8 = merge([UpSampling2D(size=(2, 2))(conv7), conv2], mode='concat', concat_axis=3)\n",
    "    conv8 = Convolution2D(16, 3, 3, activation='relu', border_mode='same')(up8)\n",
    "    conv8 = Convolution2D(16, 3, 3, activation='relu', border_mode='same')(conv8)\n",
    "\n",
    "    up9 = merge([UpSampling2D(size=(2, 2))(conv8), conv1], mode='concat', concat_axis=3)\n",
    "    conv9 = Convolution2D(8, 3, 3, activation='relu', border_mode='same')(up9)\n",
    "    conv9 = Convolution2D(8, 3, 3, activation='relu', border_mode='same')(conv9)\n",
    "\n",
    "    conv10 = Convolution2D(1, 1, 1, activation='sigmoid')(conv9)\n",
    "\n",
    "    model = Model(input=inputs, output=conv10)\n",
    "\n",
    "    \n",
    "    return model"
   ]
  },
  {
   "cell_type": "code",
   "execution_count": 47,
   "metadata": {
    "collapsed": true
   },
   "outputs": [],
   "source": [
    "# ### Generator \n",
    "\n",
    "train_gen=generate_train_batch(df_vehicles, 1)\n",
    "smooth = 1.\n",
    "model = get_small_unet()\n",
    "model.compile(optimizer=Adam(lr=1e-4), \n",
    "              loss=IOU_calc_loss, metrics=[IOU_calc])\n",
    "\n"
   ]
  },
  {
   "cell_type": "code",
   "execution_count": 48,
   "metadata": {
    "collapsed": true
   },
   "outputs": [],
   "source": [
    "#model.summary()"
   ]
  },
  {
   "cell_type": "code",
   "execution_count": null,
   "metadata": {
    "collapsed": true
   },
   "outputs": [],
   "source": [
    "# ## Using previously trained data. Set load_pretrained = False, increase epochs and train for full training.\n",
    "load_pretrained = True\n",
    "if load_pretrained == True:\n",
    "    model.load_weights(\"model_detect_SmallUnet1.h5\")        "
   ]
  },
  {
   "cell_type": "code",
   "execution_count": null,
   "metadata": {},
   "outputs": [
    {
     "name": "stdout",
     "output_type": "stream",
     "text": [
      "Epoch 1/1\n",
      "2976/2976 [==============================] - 277s - loss: -0.7599 - IOU_calc: 0.7599   \n",
      "Epoch 1/1\n",
      "2976/2976 [==============================] - 267s - loss: -0.7725 - IOU_calc: 0.7725   \n",
      "Epoch 1/1\n",
      "2976/2976 [==============================] - 267s - loss: -0.7822 - IOU_calc: 0.7822   \n",
      "Epoch 1/1\n",
      "2976/2976 [==============================] - 267s - loss: -0.7877 - IOU_calc: 0.7877   \n",
      "Epoch 1/1\n",
      "1504/2976 [==============>...............] - ETA: 132s - loss: -0.7910 - IOU_calc: 0.7910"
     ]
    }
   ],
   "source": [
    "val_best=0\n",
    "for i_pr in range(5):\n",
    "    train_gen=generate_train_batch(df_vehicles, 32)\n",
    "    \n",
    "    \n",
    "    history = model.fit_generator(train_gen,\n",
    "            samples_per_epoch=2976, \n",
    "                              nb_epoch=1)\n",
    "    \n",
    "    val_loss=history.history['IOU_calc'][0]\n",
    "     \n",
    "    if val_loss>val_best:\n",
    "        i_best=i_pr\n",
    "        val_best=val_loss\n",
    "        #fileModelJSON='model_best.json'\n",
    "        \n",
    "        \n",
    "    pr_threshold=1/(i_pr+1)\n",
    "    \n",
    "print('best model found at iteration #:'+str(i_best))\n",
    "print('best validation score: '+str(np.round(val_best,4)))"
   ]
  },
  {
   "cell_type": "code",
   "execution_count": null,
   "metadata": {
    "collapsed": true,
    "scrolled": false
   },
   "outputs": [],
   "source": [
    "# Save model for use in detection pipeline\n",
    "\n",
    "model.save('model_detect_SmallUnet1.h5',overwrite=True)"
   ]
  },
  {
   "cell_type": "code",
   "execution_count": null,
   "metadata": {
    "collapsed": true
   },
   "outputs": [],
   "source": [
    "#Save weights \n",
    "model.save_weights(\"model_segn_small_1.h5\", overwrite=True)"
   ]
  },
  {
   "cell_type": "code",
   "execution_count": null,
   "metadata": {
    "collapsed": true
   },
   "outputs": [],
   "source": [
    "### Testing generator\n",
    "\n",
    "#testing_gen = generate_test_batch(df_vehicles,20)\n",
    "# testing_gen=generate_test_batch(test_objs,20)"
   ]
  },
  {
   "cell_type": "code",
   "execution_count": null,
   "metadata": {
    "collapsed": true
   },
   "outputs": [],
   "source": [
    "#np.shape(im)"
   ]
  },
  {
   "cell_type": "code",
   "execution_count": null,
   "metadata": {},
   "outputs": [],
   "source": [
    "import time\n",
    "\n",
    "start = time.time()\n",
    "\n",
    "pred_all= model.predict(batch_img)\n",
    "end = time.time()\n",
    "end-start"
   ]
  },
  {
   "cell_type": "code",
   "execution_count": null,
   "metadata": {
    "scrolled": false
   },
   "outputs": [],
   "source": [
    "### Test on last frames of data\n",
    "testing=generate_test_batch(df_vehicles,batch_size = 50)\n",
    "batch_img,batch_mask = next(testing)\n",
    "pred_all= model.predict(batch_img)\n",
    "np.shape(pred_all)\n",
    "\n",
    "for i in range(10):\n",
    "    \n",
    "    im = np.array(batch_img[i],dtype=np.uint8)\n",
    "    im_mask = np.array(255*batch_mask[i],dtype=np.uint8)\n",
    "    im_pred = np.array(255*pred_all[i],dtype=np.uint8)\n",
    "    \n",
    "    rgb_mask_pred = cv2.cvtColor(im_pred,cv2.COLOR_GRAY2RGB)\n",
    "    rgb_mask_pred[:,:,1:3] = 0*rgb_mask_pred[:,:,1:2]\n",
    "    rgb_mask_true= cv2.cvtColor(im_mask,cv2.COLOR_GRAY2RGB)\n",
    "    rgb_mask_true[:,:,0] = 0*rgb_mask_true[:,:,0]\n",
    "    rgb_mask_true[:,:,2] = 0*rgb_mask_true[:,:,2]\n",
    "    \n",
    "    img_pred = cv2.addWeighted(rgb_mask_pred,0.5,im,0.5,0)\n",
    "    img_true = cv2.addWeighted(rgb_mask_true,0.5,im,0.5,0)\n",
    "    print(im_pred.shape)\n",
    "    plt.figure(figsize=(8,8))\n",
    "    plt.subplot(1,3,1)\n",
    "    plt.imshow(im)\n",
    "    plt.title('Original image')\n",
    "    plt.axis('off')\n",
    "    plt.subplot(1,3,2)\n",
    "    plt.imshow(img_pred)\n",
    "    plt.title('Predicted segmentation mask')\n",
    "    plt.axis('off')\n",
    "    plt.subplot(1,3,3)\n",
    "    plt.imshow(img_true)\n",
    "    plt.title('Ground truth BB')\n",
    "    plt.axis('off')\n",
    "    plt.show()\n"
   ]
  },
  {
   "cell_type": "code",
   "execution_count": null,
   "metadata": {
    "collapsed": true
   },
   "outputs": [],
   "source": [
    "#### Function for drawing bounding boxes, taken from Ryan's code on Udacity\n",
    "\n",
    "def draw_labeled_bboxes(img, labels):\n",
    "    # Iterate through all detected cars\n",
    "    for car_number in range(1, labels[1]+1):\n",
    "        # Find pixels with each car_number label value\n",
    "        nonzero = (labels[0] == car_number).nonzero()\n",
    "        # Identify x and y values of those pixels\n",
    "        nonzeroy = np.array(nonzero[0])\n",
    "        nonzerox = np.array(nonzero[1])\n",
    "        # Define a bounding box based on min/max x and y\n",
    "        if ((np.max(nonzeroy)-np.min(nonzeroy)>14) & (np.max(nonzerox)-np.min(nonzerox)>14)):\n",
    "            bbox = ((np.min(nonzerox), np.min(nonzeroy)), (np.max(nonzerox), np.max(nonzeroy)))\n",
    "            # Draw the box on the image       \n",
    "            cv2.rectangle(img, bbox[0], bbox[1], (0,0,255),2)\n",
    "    # Return the image\n",
    "    return img\n",
    "\n",
    "def test_new_img(img):\n",
    "    img = cv2.resize(img,(img_cols, img_rows))\n",
    "    img = np.reshape(img,(1,img_rows, img_cols,3))\n",
    "    pred = model.predict(img)\n",
    "    return pred,img[0]\n",
    "\n",
    "def get_BB_new_img(img):\n",
    "    # Take in RGB image\n",
    "    pred,img = test_new_img(img)\n",
    "    img  = np.array(img,dtype= np.uint8)\n",
    "    img_pred = np.array(255*pred[0],dtype=np.uint8)\n",
    "    heatmap = im_pred[:,:,0]\n",
    "    labels = label(heatmap)\n",
    "    draw_img = draw_labeled_bboxes(np.copy(img), labels)\n",
    "    return draw_img"
   ]
  },
  {
   "cell_type": "code",
   "execution_count": null,
   "metadata": {
    "collapsed": true
   },
   "outputs": [],
   "source": []
  },
  {
   "cell_type": "code",
   "execution_count": null,
   "metadata": {
    "collapsed": true
   },
   "outputs": [],
   "source": [
    "# ### Test on new image\n",
    "# index=random.randint(1300)\n",
    "# pathtest=test_objs['File_Path'][index]\n",
    "\n",
    "# test_img = cv2.imread(pathtest)\n",
    "# test_img = cv2.cvtColor(test_img,cv2.COLOR_BGR2RGB)\n",
    "\n",
    "# draw_img = get_BB_new_img(im)\n"
   ]
  },
  {
   "cell_type": "code",
   "execution_count": null,
   "metadata": {},
   "outputs": [],
   "source": [
    "from scipy.ndimage.measurements import label\n",
    "\n",
    "# test_img = 'test_images/test1.jpg'\n",
    "# im = cv2.imread(test_img)\n",
    "# im = cv2.cvtColor(im,cv2.COLOR_BGR2RGB)\n",
    "path1='/Users/simin/Desktop/didi-udacity-2017-master/data/seg4/top_image/top_image4_00372.png'\n",
    "path2='/Users/simin/Desktop/didi-udacity-2017-master/data/test/top_image_00608.png'\n",
    "path3='/Users/simin/Desktop/didi-udacity-2017-master/data/processed_didi/lidar_top_img/1490991819240274000.png'\n",
    "# img=image.load_img(path1, target_size=(300,300))\n",
    "# img=image.img_to_array(img)\n",
    "test_img=imread(path1)\n",
    "\n",
    "#draw_img = get_BB_new_img(im)\n",
    "\n",
    "\n",
    "pred,im = test_new_img(test_img)\n",
    "im  = np.array(im,dtype= np.uint8)\n",
    "im_pred = np.array(255*pred[0],dtype=np.uint8)\n",
    "rgb_mask_pred = cv2.cvtColor(im_pred,cv2.COLOR_GRAY2RGB)\n",
    "rgb_mask_pred[:,:,1:3] = 0*rgb_mask_pred[:,:,1:2]\n",
    "\n",
    "\n",
    "\n",
    "img_pred = cv2.addWeighted(rgb_mask_pred,0.55,im,1,0)\n",
    "\n",
    "\n",
    "\n",
    "#heatmap = im_pred[:,:,0]\n",
    "\n",
    "#labels = label(heatmap)\n",
    "# Draw bounding boxes on a copy of the image\n",
    "#draw_img = draw_labeled_bboxes(np.copy(im), labels)\n",
    "# Display the image\n",
    "#img_pred = im\n",
    "#im_pred[:,:,]\n",
    "\n",
    "draw_img = get_BB_new_img(im)\n",
    "\n",
    "\n",
    "# diff = end_time - start_time\n",
    "# diff"
   ]
  },
  {
   "cell_type": "code",
   "execution_count": null,
   "metadata": {
    "collapsed": true
   },
   "outputs": [],
   "source": [
    "plt.imshow(im)\n",
    "plt.axis('off')"
   ]
  },
  {
   "cell_type": "code",
   "execution_count": null,
   "metadata": {
    "collapsed": true
   },
   "outputs": [],
   "source": [
    "plt.imshow(draw_img)\n",
    "plt.title('predict_result')\n",
    "plt.axis('off')"
   ]
  },
  {
   "cell_type": "code",
   "execution_count": null,
   "metadata": {
    "collapsed": true
   },
   "outputs": [],
   "source": [
    "plt.figure(figsize=(10,5))\n",
    "plt.subplot(1,3,1)\n",
    "plt.imshow(im)\n",
    "plt.title('Original')\n",
    "plt.axis('off')\n",
    "plt.subplot(1,3,2)\n",
    "plt.imshow(img_pred)\n",
    "plt.title('Segmentation')\n",
    "plt.axis('off')\n",
    "plt.subplot(1,3,3)\n",
    "plt.imshow(draw_img)\n",
    "plt.title('Bounding Box')\n",
    "plt.axis('off');\n"
   ]
  },
  {
   "cell_type": "code",
   "execution_count": null,
   "metadata": {
    "collapsed": true
   },
   "outputs": [],
   "source": [
    "#### EXTRA STUFF THAT I DIDNT USE. "
   ]
  },
  {
   "cell_type": "code",
   "execution_count": null,
   "metadata": {
    "collapsed": true
   },
   "outputs": [],
   "source": [
    "plt.imshow(im_pred[:,:,0])\n",
    "\n"
   ]
  },
  {
   "cell_type": "code",
   "execution_count": null,
   "metadata": {
    "collapsed": true
   },
   "outputs": [],
   "source": [
    "\n",
    "heatmap = im_pred[:,:,0]\n",
    "\n",
    "labels = label(heatmap)\n",
    "# Draw bounding boxes on a copy of the image\n",
    "draw_img = draw_labeled_bboxes(np.copy(im), labels)\n",
    "# Display the image\n",
    "plt.imshow(draw_img)\n",
    "plt.axis('off');"
   ]
  },
  {
   "cell_type": "code",
   "execution_count": null,
   "metadata": {
    "collapsed": true
   },
   "outputs": [],
   "source": []
  },
  {
   "cell_type": "code",
   "execution_count": null,
   "metadata": {
    "collapsed": true
   },
   "outputs": [],
   "source": []
  },
  {
   "cell_type": "code",
   "execution_count": null,
   "metadata": {
    "collapsed": true
   },
   "outputs": [],
   "source": []
  },
  {
   "cell_type": "code",
   "execution_count": null,
   "metadata": {
    "collapsed": true
   },
   "outputs": [],
   "source": [
    "plt.imshow(labels[0],cmap='gray')"
   ]
  },
  {
   "cell_type": "code",
   "execution_count": null,
   "metadata": {
    "collapsed": true
   },
   "outputs": [],
   "source": [
    "np.unique(labels[0])"
   ]
  },
  {
   "cell_type": "code",
   "execution_count": null,
   "metadata": {
    "collapsed": true
   },
   "outputs": [],
   "source": [
    "car_label = 1\n",
    "\n",
    "blob_non0 = (car_label == labels[0])\n",
    "\n",
    "img_0 = np.copy(heatmap)*0\n",
    "img_0[blob_non0] = 255"
   ]
  },
  {
   "cell_type": "code",
   "execution_count": null,
   "metadata": {
    "collapsed": true
   },
   "outputs": [],
   "source": [
    "plt.imshow(blob_non0)\n",
    "img_cny = cv2.Canny(img_0,128,255)\n",
    "plt.imshow(img_cny,cmap='gray')"
   ]
  },
  {
   "cell_type": "code",
   "execution_count": null,
   "metadata": {
    "collapsed": true
   },
   "outputs": [],
   "source": []
  },
  {
   "cell_type": "code",
   "execution_count": null,
   "metadata": {
    "collapsed": true
   },
   "outputs": [],
   "source": []
  },
  {
   "cell_type": "code",
   "execution_count": null,
   "metadata": {
    "collapsed": true
   },
   "outputs": [],
   "source": []
  },
  {
   "cell_type": "code",
   "execution_count": null,
   "metadata": {
    "collapsed": true
   },
   "outputs": [],
   "source": []
  },
  {
   "cell_type": "code",
   "execution_count": null,
   "metadata": {
    "collapsed": true
   },
   "outputs": [],
   "source": [
    "\n"
   ]
  },
  {
   "cell_type": "code",
   "execution_count": null,
   "metadata": {
    "collapsed": true
   },
   "outputs": [],
   "source": []
  },
  {
   "cell_type": "code",
   "execution_count": null,
   "metadata": {
    "collapsed": true
   },
   "outputs": [],
   "source": []
  }
 ],
 "metadata": {
  "anaconda-cloud": {},
  "kernelspec": {
   "display_name": "Python 3",
   "language": "python",
   "name": "python3"
  },
  "language_info": {
   "codemirror_mode": {
    "name": "ipython",
    "version": 3
   },
   "file_extension": ".py",
   "mimetype": "text/x-python",
   "name": "python",
   "nbconvert_exporter": "python",
   "pygments_lexer": "ipython3",
   "version": "3.5.2"
  },
  "widgets": {
   "state": {},
   "version": "1.1.2"
  }
 },
 "nbformat": 4,
 "nbformat_minor": 1
}

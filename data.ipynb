{
 "cells": [
  {
   "cell_type": "code",
   "execution_count": 1,
   "metadata": {},
   "outputs": [
    {
     "name": "stdout",
     "output_type": "stream",
     "text": [
      "Loading OXTS timestamps from 2011_09_26_drive_0057_sync...\n",
      "Found 361 timestamps...\n",
      "done.\n",
      "Loading OXTS data from 2011_09_26_drive_0057_sync...\n",
      "Found 361 OXTS measurements...\n",
      "done.\n",
      "Loading color images from 2011_09_26_drive_0057_sync...\n",
      "Found 361 image pairs...\n",
      "done.\n",
      "Found 361 Velodyne scans...\n",
      "done.\n",
      "parsing tracklet file /Users/simin/Desktop/didi/data3/kitti/2011_09_26/tracklet_labels.xml\n",
      "file contains 27 tracklets\n",
      "loaded 27 tracklets\n"
     ]
    }
   ],
   "source": [
    "from kitti_data import pykitti\n",
    "from kitti_data.pykitti.tracklet import parseXML, TRUNC_IN_IMAGE, TRUNC_TRUNCATED\n",
    "from kitti_data.draw import *\n",
    "from kitti_data.io import *\n",
    "\n",
    "from net.utility.draw import *\n",
    "from net.processing.boxes3d import *\n",
    "\n",
    "\n",
    "# # run functions --------------------------------------------------------------------------\n",
    "\n",
    "\n",
    "\n",
    "\n",
    "\n",
    "## objs to gt boxes ##\n",
    "def obj_to_gt_boxes3d(objs):\n",
    "\n",
    "    num        = len(objs)\n",
    "    gt_boxes3d = np.zeros((num,8,3),dtype=np.float32)\n",
    "    #gt_labels  = np.zeros((num),    dtype=np.int32)\n",
    "    gt_labels=[]\n",
    "    for n in range(num):\n",
    "        obj = objs[n]\n",
    "        b   = obj.box\n",
    "        label = obj.type   \n",
    "\n",
    "        gt_labels.append(label)\n",
    "        gt_boxes3d[n]=b\n",
    "\n",
    "    return  gt_boxes3d, gt_labels\n",
    "\n",
    "\n",
    "\n",
    "\n",
    "\n",
    "basedir = '/Users/simin/Desktop/didi/data3/kitti'\n",
    "date  = '2011_09_26'\n",
    "drive = '0057'\n",
    "\n",
    "# The range argument is optional - default is None, which loads the whole dataset\n",
    "dataset = pykitti.raw(basedir, date, drive) #, range(0, 50, 5))\n",
    "\n",
    "# Load some data\n",
    "dataset.load_calib()         # Calibration data are accessible as named tuples\n",
    "dataset.load_timestamps()    # Timestamps are parsed into datetime objects\n",
    "dataset.load_oxts()          # OXTS packets are loaded as named tuples\n",
    "#dataset.load_gray()         # Left/right images are accessible as named tuples\n",
    "dataset.load_rgb()          # Left/right images are accessible as named tuples\n",
    "dataset.load_velo()          # Each scan is a Nx4 array of [x,y,z,reflectance]\n",
    "\n",
    "tracklet_file = '/Users/simin/Desktop/didi/data3/kitti/2011_09_26/tracklet_labels.xml'\n",
    "\n",
    "num_frame=len(dataset.velo)  #154\n",
    "objects = read_objects(tracklet_file, num_frame)\n",
    "num_frames=num_frame\n",
    "\n",
    "# # # ############# convert   ###########################\n",
    "# os.makedirs('/Users/simin/Desktop/didi-udacity-2017-master/data/seg3',exist_ok=True)\n",
    "\n",
    "# # ## rgb images --------------------\n",
    "# os.makedirs('/Users/simin/Desktop/didi-udacity-2017-master/data/seg3/rgb',exist_ok=True)\n",
    "\n",
    "# for n in range(num_frames):\n",
    "#     print(n)\n",
    "#     rgb = dataset.rgb[n][0]\n",
    "#     rgb =(rgb*255).astype(np.uint8)\n",
    "#     rgb = cv2.cvtColor(rgb, cv2.COLOR_BGR2RGB)\n",
    "#     cv2.imwrite('/Users/simin/Desktop/didi-udacity-2017-master/data/seg3/rgb/rgb_%05d.png'%n,rgb)\n",
    "\n",
    "\n",
    "\n",
    "# # ## top images --------------------\n",
    "# os.makedirs('/Users/simin/Desktop/didi-udacity-2017-master/data/seg/lidar',exist_ok=True)\n",
    "# os.makedirs('/Users/simin/Desktop/didi-udacity-2017-master/data/seg/top',exist_ok=True)\n",
    "# os.makedirs('/Users/simin/Desktop/didi-udacity-2017-master/data/seg/top_image',exist_ok=True)\n",
    "\n",
    "# for n in range(num_frames):\n",
    "#     print(n)\n",
    "#     lidar = dataset.velo[n]\n",
    "#     pts=lidar[lidar[:,0]>=5,:]\n",
    "#     top,top_image = lidar_to_top(pts)\n",
    "\n",
    "# #     np.save('/Users/simin/Desktop/didi-udacity-2017-master/data/seg/lidar/lidar1_%05d.npy'%n,lidar)\n",
    "# #     np.save('/Users/simin/Desktop/didi-udacity-2017-master/data/seg/top/top1_%05d.npy'%n,top)\n",
    "# #     cv2.imwrite('/Users/simin/Desktop/didi-udacity-2017-master/data/seg/top_image/top_image1_%05d.png'%n,top_image)\n",
    "# # print('done!')\n",
    "\n",
    "\n",
    "\n",
    "# # # #     if 1:  ## boxes3d  --------------------\n",
    "# os.makedirs('/Users/simin/Desktop/didi-udacity-2017-master/data/seg3/gt_boxes3d',exist_ok=True)\n",
    "# os.makedirs('/Users/simin/Desktop/didi-udacity-2017-master/data/seg3/gt_labels',exist_ok=True)\n",
    "# for n in range(num_frames):\n",
    "#     print(n)\n",
    "#     objs = objects[n]\n",
    "#     gt_boxes3d, gt_labels = obj_to_gt_boxes3d(objs)\n",
    "\n",
    "#     np.save('/Users/simin/Desktop/didi-udacity-2017-master/data/seg3/gt_boxes3d/gt_boxes3d_%05d.npy'%n,gt_boxes3d)\n",
    "#     np.save('/Users/simin/Desktop/didi-udacity-2017-master/data/seg3/gt_labels/gt_labels_%05d.npy'%n,gt_labels)\n",
    "\n",
    "# #         exit(0)\n",
    "\n",
    "\n",
    "# #     ############# analysis ###########################\n",
    "# # ## make mean\n",
    "# mean_image = np.zeros((400,400),dtype=np.float32)\n",
    "\n",
    "# for n in range(num_frames):\n",
    "#     print(n)\n",
    "#     top_image = cv2.imread('/Users/simin/Desktop/didi-udacity-2017-master/data/seg/top_image/top_image1_%05d.png'%n,0)\n",
    "#     mean_image += top_image.astype(np.float32)\n",
    "\n",
    "# mean_image = mean_image/num_frames\n",
    "# cv2.imwrite('/Users/simin/Desktop/didi-udacity-2017-master/data/seg/top_image/top_mean_image.png',mean_image)\n",
    "\n",
    "\n",
    "# #     if 0: ## gt_3dboxes distribution ... location and box, height\n",
    "# #         depths =[]\n",
    "# #         aspects=[]\n",
    "# #         scales =[]\n",
    "# #         mean_image = cv2.imread('/Users/simin/Desktop/didi-udacity-2017-master/data/seg/top_image/top_mean_image.png',0)\n",
    "\n",
    "# #         for n in range(num_frames):\n",
    "# #             print(n)\n",
    "# #             gt_boxes3d = np.load('/Users/simin/Desktop/didi-udacity-2017-master/data/seg/gt_boxes3d/gt_boxes3d_%05d.npy'%n)\n",
    "\n",
    "# #             top_boxes = box3d_to_top_box(gt_boxes3d)\n",
    "# #             draw_box3d_on_top(mean_image, gt_boxes3d,color=(255,255,255), thickness=1, darken=1)\n",
    "\n",
    "\n",
    "# #             for i in range(len(top_boxes)):\n",
    "# #                 x1,y1,x2,y2 = top_boxes[i]\n",
    "# #                 w = math.fabs(x2-x1)\n",
    "# #                 h = math.fabs(y2-y1)\n",
    "# #                 area = w*h\n",
    "# #                 s = area**0.5\n",
    "# #                 scales.append(s)\n",
    "\n",
    "# #                 a = w/h\n",
    "# #                 aspects.append(a)\n",
    "\n",
    "# #                 box3d = gt_boxes3d[i]\n",
    "# #                 d = np.sum(box3d[0:4,2])/4 -  np.sum(box3d[4:8,2])/4\n",
    "# #                 depths.append(d)\n",
    "\n",
    "# #         depths  = np.array(depths)\n",
    "# #         aspects = np.array(aspects)\n",
    "# #         scales  = np.array(scales)\n",
    "\n",
    "# #         numpy.savetxt('/Users/simin/Desktop/didi-udacity-2017-master/data/seg/depths.txt',depths)\n",
    "# #         numpy.savetxt('/Users/simin/Desktop/didi-udacity-2017-master/data/seg/aspects.txt',aspects)\n",
    "# #         numpy.savetxt('/Users/simin/Desktop/didi-udacity-2017-master/data/seg/scales.txt',scales)\n",
    "# #         cv2.imwrite('/Users/simin/Desktop/didi-udacity-2017-master/data/seg/top_image/top_rois.png',mean_image)\n",
    "\n",
    "\n",
    "\n",
    "\n",
    "\n",
    "\n",
    "\n",
    "\n",
    "#     #----------------------------------------------------------\n",
    "#     #----------------------------------------------------------\n"
   ]
  },
  {
   "cell_type": "code",
   "execution_count": 2,
   "metadata": {},
   "outputs": [],
   "source": [
    "import glob\n",
    "\n",
    "# box_files=glob.glob('/Users/simin/Desktop/didi-udacity-2017-master/data/seg/gt_boxes3d/*.npy')\n",
    "\n",
    "# file_names=glob.glob('/Users/simin/Desktop/didi-udacity-2017-master/data/seg/rgb/*.png')\n",
    "# label_files=glob.glob('/Users/simin/Desktop/didi-udacity-2017-master/data/seg/gt_labels/*.npy')\n",
    "\n",
    "# top_files=glob.glob('/Users/simin/Desktop/didi-udacity-2017-master/data/seg/top_image/*.png')\n",
    "box_files=glob.glob('/Users/simin/Desktop/didi-udacity-2017-master/data/seg3/gt_boxes3d/*.npy')\n",
    "\n",
    "file_names=glob.glob('/Users/simin/Desktop/didi-udacity-2017-master/data/seg3/rgb/*.png')\n",
    "label_files=glob.glob('/Users/simin/Desktop/didi-udacity-2017-master/data/seg3/gt_labels/*.npy')\n",
    "\n",
    "top_files=glob.glob('/Users/simin/Desktop/didi-udacity-2017-master/data/seg3/top_image/*.png')\n",
    "\n",
    "images=[]\n",
    "boxes_3d=[]\n",
    "gt_labels=[]\n",
    "\n",
    "for i in range(len(file_names)):\n",
    "    img=cv2.imread(file_names[i])\n",
    "    img=cv2.cvtColor(img,cv2.COLOR_BGR2RGB)\n",
    "    \n",
    "    box3d=np.load(box_files[i])\n",
    "    label=np.load(label_files[i]).astype(str)\n",
    "    \n",
    "    images.append(img)\n",
    "    boxes_3d.append(box3d)\n",
    "    gt_labels.append(label)"
   ]
  },
  {
   "cell_type": "code",
   "execution_count": 3,
   "metadata": {},
   "outputs": [
    {
     "data": {
      "text/plain": [
       "array(['Car', 'Car', 'Car', 'Car', 'Car', 'Car'], \n",
       "      dtype='<U3')"
      ]
     },
     "execution_count": 3,
     "metadata": {},
     "output_type": "execute_result"
    }
   ],
   "source": [
    "len(top_files)\n",
    "top_files[0]\n",
    "gt_labels[0]"
   ]
  },
  {
   "cell_type": "code",
   "execution_count": 4,
   "metadata": {
    "collapsed": true
   },
   "outputs": [],
   "source": [
    "TOP_Y_MIN=-25     #40\n",
    "TOP_Y_MAX=+25\n",
    "TOP_X_MIN=0  #0\n",
    "TOP_X_MAX=40  #40   #70.4\n",
    "TOP_Z_MIN=-2.0    ###<todo> determine the correct values!\n",
    "TOP_Z_MAX= 0.4\n",
    "\n",
    "TOP_X_STEP=0.1  #0.1\n",
    "TOP_Y_STEP=0.1\n",
    "TOP_Z_STEP=0.4\n",
    "\n",
    "def lidar_to_top_coords(x,y,z=None):\n",
    "    X0, Xn = 0, int((TOP_X_MAX-TOP_X_MIN)//TOP_X_STEP)+1\n",
    "    Y0, Yn = 0, int((TOP_Y_MAX-TOP_Y_MIN)//TOP_Y_STEP)+1\n",
    "    xx = Yn-int((y-TOP_Y_MIN)//TOP_Y_STEP)\n",
    "    yy = Xn-int((x-TOP_X_MIN)//TOP_X_STEP)\n",
    "\n",
    "    return xx,yy\n",
    "\n",
    "def box3d_to_top_box(boxes3d):\n",
    "\n",
    "    is_reshape = boxes3d.shape==(8,3) #support for single box3d\n",
    "    if is_reshape:\n",
    "        boxes3d = boxes3d.reshape(1,8,3)\n",
    "\n",
    "    num  = len(boxes3d)\n",
    "    top_boxes = np.zeros((num,4),  dtype=np.float32)\n",
    "    for n in range(num):\n",
    "        b   = boxes3d[n]\n",
    "\n",
    "        x0 = b[0,0]\n",
    "        y0 = b[0,1]\n",
    "        x1 = b[1,0]\n",
    "        y1 = b[1,1]\n",
    "        x2 = b[2,0]\n",
    "        y2 = b[2,1]\n",
    "        x3 = b[3,0]\n",
    "        y3 = b[3,1]\n",
    "        u0,v0=lidar_to_top_coords(x0,y0)\n",
    "        u1,v1=lidar_to_top_coords(x1,y1)\n",
    "        u2,v2=lidar_to_top_coords(x2,y2)\n",
    "        u3,v3=lidar_to_top_coords(x3,y3)\n",
    "\n",
    "        umin=min(u0,u1,u2,u3)\n",
    "        umax=max(u0,u1,u2,u3)\n",
    "        vmin=min(v0,v1,v2,v3)\n",
    "        vmax=max(v0,v1,v2,v3)\n",
    "\n",
    "        top_boxes[n]=np.array([umin,vmin,umax,vmax])\n",
    "\n",
    "    if is_reshape:\n",
    "        top_boxes = top_boxes.squeeze()\n",
    "\n",
    "    return top_boxes"
   ]
  },
  {
   "cell_type": "code",
   "execution_count": 5,
   "metadata": {},
   "outputs": [],
   "source": [
    "# topbb=box3d_to_top_box(boxes_3d[0])\n",
    "# topbb[0]"
   ]
  },
  {
   "cell_type": "code",
   "execution_count": null,
   "metadata": {
    "collapsed": true
   },
   "outputs": [],
   "source": []
  },
  {
   "cell_type": "code",
   "execution_count": 6,
   "metadata": {},
   "outputs": [
    {
     "data": {
      "text/plain": [
       "361"
      ]
     },
     "execution_count": 6,
     "metadata": {},
     "output_type": "execute_result"
    }
   ],
   "source": [
    "len(boxes_3d)\n",
    "len(boxes_3d[0])\n",
    "len(top_files)"
   ]
  },
  {
   "cell_type": "code",
   "execution_count": null,
   "metadata": {},
   "outputs": [],
   "source": []
  },
  {
   "cell_type": "code",
   "execution_count": 7,
   "metadata": {},
   "outputs": [
    {
     "name": "stdout",
     "output_type": "stream",
     "text": [
      "done!\n"
     ]
    }
   ],
   "source": [
    "import csv\n",
    "with open('test3.csv', 'w') as csvfile:\n",
    "    fieldnames = [ 'File_Path','Frame','Label','xmin','xmax','ymin','ymax']\n",
    "    writer = csv.DictWriter(csvfile, fieldnames=fieldnames)\n",
    "    writer.writeheader()\n",
    "    for i in range(len(images)):\n",
    "        topbb=box3d_to_top_box(boxes_3d[i])\n",
    "        name_str=top_files[i].split('/')\n",
    "        name_str = name_str[-1]\n",
    "        for k in range(len(topbb)):\n",
    "            \n",
    "            writer.writerow({'File_Path':top_files[i],'Frame':name_str,'Label':gt_labels[i][k], 'xmin':topbb[k][0], 'ymin':topbb[k][1],\\\n",
    "                           'xmax':topbb[k][2],'ymax':topbb[k][3]})\n",
    "\n",
    "print('done!')"
   ]
  },
  {
   "cell_type": "code",
   "execution_count": 8,
   "metadata": {},
   "outputs": [
    {
     "ename": "error",
     "evalue": "/Users/jenkins/miniconda/1/x64/conda-bld/conda_1486587097465/work/opencv-3.1.0/modules/imgproc/src/color.cpp:7341: error: (-215) scn == 3 || scn == 4 in function ipp_cvtColor\n",
     "output_type": "error",
     "traceback": [
      "\u001b[0;31m---------------------------------------------------------------------------\u001b[0m",
      "\u001b[0;31merror\u001b[0m                                     Traceback (most recent call last)",
      "\u001b[0;32m<ipython-input-8-24d4cab3f088>\u001b[0m in \u001b[0;36m<module>\u001b[0;34m()\u001b[0m\n\u001b[1;32m      7\u001b[0m \u001b[0mgt_boxes3d\u001b[0m \u001b[0;34m=\u001b[0m \u001b[0mnp\u001b[0m\u001b[0;34m.\u001b[0m\u001b[0mload\u001b[0m\u001b[0;34m(\u001b[0m\u001b[0;34m'/Users/simin/Desktop/didi-udacity-2017-master/data/seg/gt_boxes3d/gt_boxes3d_00232.npy'\u001b[0m\u001b[0;34m)\u001b[0m\u001b[0;34m\u001b[0m\u001b[0m\n\u001b[1;32m      8\u001b[0m \u001b[0;34m\u001b[0m\u001b[0m\n\u001b[0;32m----> 9\u001b[0;31m \u001b[0mmean_image\u001b[0m\u001b[0;34m=\u001b[0m\u001b[0mcv2\u001b[0m\u001b[0;34m.\u001b[0m\u001b[0mcvtColor\u001b[0m\u001b[0;34m(\u001b[0m\u001b[0mmean_image\u001b[0m\u001b[0;34m,\u001b[0m \u001b[0mcv2\u001b[0m\u001b[0;34m.\u001b[0m\u001b[0mCOLOR_BGR2RGB\u001b[0m\u001b[0;34m)\u001b[0m\u001b[0;34m\u001b[0m\u001b[0m\n\u001b[0m\u001b[1;32m     10\u001b[0m \u001b[0mtop_boxes\u001b[0m \u001b[0;34m=\u001b[0m \u001b[0mbox3d_to_top_box\u001b[0m\u001b[0;34m(\u001b[0m\u001b[0mgt_boxes3d\u001b[0m\u001b[0;34m)\u001b[0m\u001b[0;34m\u001b[0m\u001b[0m\n\u001b[1;32m     11\u001b[0m \u001b[0mprint\u001b[0m\u001b[0;34m(\u001b[0m\u001b[0mtop_boxes\u001b[0m\u001b[0;34m)\u001b[0m\u001b[0;34m\u001b[0m\u001b[0m\n",
      "\u001b[0;31merror\u001b[0m: /Users/jenkins/miniconda/1/x64/conda-bld/conda_1486587097465/work/opencv-3.1.0/modules/imgproc/src/color.cpp:7341: error: (-215) scn == 3 || scn == 4 in function ipp_cvtColor\n"
     ]
    }
   ],
   "source": [
    "import matplotlib.pyplot as plt\n",
    "%matplotlib inline\n",
    "mean_image = cv2.imread('/Users/simin/Desktop/didi-udacity-2017-master/data/seg/top_image/top_image1_00232.png')\n",
    "image = cv2.imread('/Users/simin/Desktop/didi-udacity-2017-master/data/seg/rgb/rgb_00232.png')\n",
    "image=cv2.cvtColor(image, cv2.COLOR_BGR2RGB)\n",
    "\n",
    "gt_boxes3d = np.load('/Users/simin/Desktop/didi-udacity-2017-master/data/seg/gt_boxes3d/gt_boxes3d_00232.npy')\n",
    "\n",
    "mean_image=cv2.cvtColor(mean_image, cv2.COLOR_BGR2RGB)\n",
    "top_boxes = box3d_to_top_box(gt_boxes3d)\n",
    "print(top_boxes)\n",
    "\n",
    "imm=draw_box3d_on_top(mean_image, gt_boxes3d,color=(255,0,0), thickness=1, darken=1)\n",
    "\n",
    "plt.imshow(imm)\n",
    "image.shape\n"
   ]
  },
  {
   "cell_type": "code",
   "execution_count": null,
   "metadata": {},
   "outputs": [],
   "source": [
    "MATRIX_Mt = ([[  2.34773698e-04,   1.04494074e-02,   9.99945389e-01,  0.00000000e+00],\n",
    "              [ -9.99944155e-01,   1.05653536e-02,   1.24365378e-04,  0.00000000e+00],\n",
    "              [ -1.05634778e-02,  -9.99889574e-01,   1.04513030e-02,  0.00000000e+00],\n",
    "              [  5.93721868e-02,  -7.51087914e-02,  -2.72132796e-01,  1.00000000e+00]])\n",
    "\n",
    "MATRIX_Kt = ([[ 721.5377,    0.    ,    0.    ],\n",
    "              [   0.    ,  721.5377,    0.    ],\n",
    "              [ 609.5593,  172.854 ,    1.    ]])\n",
    "box_3d=top_box_to_box3d(top_boxes)\n",
    "proj=box3d_to_rgb_projections(box_3d, Mt=None, Kt=None)\n",
    "rgb_im=draw_rgb_projections(image, proj, color=(255,0,0), thickness=2, darker=1)\n",
    "plt.imshow(rgb_im)"
   ]
  },
  {
   "cell_type": "code",
   "execution_count": null,
   "metadata": {},
   "outputs": [],
   "source": [
    "imm2=imm/127.5-.5\n",
    "np.min(imm2)"
   ]
  },
  {
   "cell_type": "code",
   "execution_count": null,
   "metadata": {
    "collapsed": true
   },
   "outputs": [],
   "source": []
  }
 ],
 "metadata": {
  "anaconda-cloud": {},
  "kernelspec": {
   "display_name": "Python 3",
   "language": "python",
   "name": "python3"
  },
  "language_info": {
   "codemirror_mode": {
    "name": "ipython",
    "version": 3
   },
   "file_extension": ".py",
   "mimetype": "text/x-python",
   "name": "python",
   "nbconvert_exporter": "python",
   "pygments_lexer": "ipython3",
   "version": "3.5.2"
  },
  "widgets": {
   "state": {},
   "version": "1.1.2"
  }
 },
 "nbformat": 4,
 "nbformat_minor": 2
}
